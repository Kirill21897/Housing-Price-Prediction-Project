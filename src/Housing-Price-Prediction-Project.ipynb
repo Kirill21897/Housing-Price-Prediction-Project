{
 "cells": [
  {
   "cell_type": "markdown",
   "metadata": {},
   "source": [
    "# Проект Ml1 (shilagel)"
   ]
  },
  {
   "cell_type": "markdown",
   "metadata": {},
   "source": [
    "## Введение "
   ]
  },
  {
   "cell_type": "markdown",
   "metadata": {},
   "source": [
    "#### 1. Для начала, пожалуйста, приведите 5 примеров применения методов машинного обучения в жизни. В чём преимущество использования методов машинного обучения в каждом из ваших примеров?"
   ]
  },
  {
   "cell_type": "markdown",
   "metadata": {},
   "source": [
    "1. Рекомендательные системы (например, Netflix, Amazon):\n",
    "Преимущество: Машинное обучение позволяет анализировать поведение пользователей и предлагать персонализированные рекомендации, что увеличивает удовлетворенность клиентов и способствует росту продаж. Это помогает пользователям находить контент или товары, которые им действительно интересны, экономя время на поиски.\n",
    "\n",
    "2. Обработка естественного языка (например, чат-боты, переводчики):\n",
    "Преимущество: Методы машинного обучения позволяют улучшать взаимодействие между человеком и компьютером, делая его более естественным и интуитивным. Чат-боты могут быстро и эффективно отвечать на запросы пользователей, а переводчики — обеспечивать более точный и контекстуальный перевод.\n",
    "\n",
    "3. Медицинская диагностика (например, анализ медицинских изображений):\n",
    "Преимущество: Машинное обучение может помочь в раннем выявлении заболеваний, таких как рак, путем анализа медицинских изображений (например, рентгеновских снимков или МРТ). Это повышает точность диагностики и позволяет врачам принимать более обоснованные решения, что может спасти жизни.\n",
    "\n",
    "4. Автономные транспортные средства (например, беспилотные автомобили):\n",
    "Преимущество: Использование машинного обучения в автономных транспортных средствах позволяет им анализировать окружающую среду и принимать решения в реальном времени. Это может снизить количество аварий, улучшить транспортную эффективность и уменьшить заторы на дорогах.\n",
    "\n",
    "5. Финансовый анализ и мошенничество (например, кредитные рейтинги, обнаружение мошенничества):\n",
    "Преимущество: Методы машинного обучения могут анализировать большие объемы данных для выявления аномалий и предсказания кредитоспособности клиентов. Это помогает финансовым учреждениям минимизировать риски и предотвращать мошеннические действия, что в свою очередь защищает клиентов и улучшает финансовую стабильность."
   ]
  },
  {
   "cell_type": "markdown",
   "metadata": {},
   "source": [
    "#### 2. Используйте классификацию задач во введении, чтобы решить, к какому классу можно отнести задачи из приведённой выше таблицы и 5 приведённых вами примеров."
   ]
  },
  {
   "cell_type": "markdown",
   "metadata": {},
   "source": [
    "Задачи, приведённые в предыдущем ответе, можно классифицировать по различным категориям задач машинного обучения. Вот как они могут быть отнесены к основным классам:\n",
    "\n",
    "1. Рекомендательные системы (например, Netflix, Amazon):\n",
    "Класс задачи: Классификация и регрессия (в зависимости от подхода).\n",
    "Описание: Задача заключается в предсказании предпочтений пользователей на основе их предыдущего поведения и характеристик товаров. Это может быть как задача классификации (например, \"нравится/не нравится\"), так и регрессии (например, предсказание рейтинга).\n",
    "\n",
    "2. Обработка естественного языка (например, чат-боты, переводчики):\n",
    "Класс задачи: Классификация и генерация текста.\n",
    "Описание: Задачи могут включать классификацию текстов (например, определение тональности) и генерацию текста (например, создание ответов в чат-ботах).\n",
    "\n",
    "3. Медицинская диагностика (например, анализ медицинских изображений):\n",
    "Класс задачи: Классификация.\n",
    "Описание: Задача заключается в классификации медицинских изображений (например, \"злокачественная/доброкачественная опухоль\") на основе анализа визуальных данных.\n",
    "\n",
    "4. Автономные транспортные средства (например, беспилотные автомобили):\n",
    "Класс задачи: Классификация и регрессия (в зависимости от конкретной задачи).\n",
    "Описание: Задачи могут включать классификацию объектов (например, распознавание пешеходов, автомобилей) и регрессию (например, предсказание траектории движения).\n",
    "\n",
    "5. Финансовый анализ и мошенничество (например, кредитные рейтинги, обнаружение мошенничества):\n",
    "Класс задачи: Классификация.\n",
    "Описание: Задача заключается в классификации транзакций как \"мошеннические\" или \"нормальные\" на основе анализа данных о транзакциях."
   ]
  },
  {
   "cell_type": "markdown",
   "metadata": {},
   "source": [
    "#### 3. Подумайте, в чём разница между многоклассовой и многометочной классификацией."
   ]
  },
  {
   "cell_type": "markdown",
   "metadata": {},
   "source": [
    "Многоклассовая и многометочная классификация — это два различных подхода к задачам классификации в машинном обучении, и они отличаются по своей структуре и целям.\n",
    "\n",
    "Многоклассовая классификация\n",
    "Определение: В многоклассовой классификации задача состоит в том, чтобы отнести входные данные к одной из нескольких возможных классов. Каждый экземпляр данных может принадлежать только к одному классу.\n",
    "Пример: Классификация изображений животных, где классы могут быть \"кот\", \"собака\", \"птица\" и т.д. Каждое изображение может быть отнесено только к одному из этих классов.\n",
    "\n",
    "Многометочная классификация\n",
    "Определение: В многометочной классификации задача заключается в том, чтобы отнести входные данные к нескольким классам одновременно. Каждый экземпляр данных может принадлежать к нескольким классам одновременно.\n",
    "Пример: Классификация текстов, где один и тот же текст может быть отнесён к нескольким категориям, например, \"наука\", \"технологии\" и \"образование\". В этом случае текст может одновременно относиться к нескольким меткам.\n",
    "\n",
    "\n",
    "Основные различия\n",
    "\n",
    "Количество классов:\n",
    "В многоклассовой классификации каждый экземпляр относится только к одному классу.\n",
    "В многометочной классификации экземпляр может принадлежать к нескольким классам одновременно.\n",
    "\n",
    "Структура выходных данных:\n",
    "В многоклассовой классификации выходные данные представляют собой один класс (например, целое число, указывающее на класс).\n",
    "В многометочной классификации выходные данные могут быть представлены в виде вектора, где каждый элемент указывает на принадлежность к определённому классу (например, бинарные значения, указывающие, принадлежит ли экземпляр к классу или нет).\n",
    "\n",
    "Применение:\n",
    "Многоклассовая классификация часто используется в задачах, где классы являются взаимно исключающими.\n",
    "Многометочная классификация применяется в задачах, где классы могут пересекаться и не являются взаимно исключающими."
   ]
  },
  {
   "cell_type": "markdown",
   "metadata": {},
   "source": [
    "#### 4. Является ли пример с ценами на жильё из теории классификацией задачи регрессии? Можно ли свести проблему регрессии к классификации?"
   ]
  },
  {
   "cell_type": "markdown",
   "metadata": {},
   "source": [
    "Пример с ценами на жильё обычно относится к задаче регрессии, а не классификации. В задачах регрессии цель состоит в том, чтобы предсказать непрерывное значение, например, цену жилья на основе различных факторов, таких как площадь, количество комнат, расположение и т.д. В этом случае выходные данные (цена) являются числовыми и могут принимать любое значение в определённом диапазоне.\n",
    "\n",
    "Можно ли свести проблему регрессии к классификации?\n",
    "Да, в некоторых случаях можно свести задачу регрессии к задаче классификации, но это требует определённых преобразований. Вот как это можно сделать:\n",
    "\n",
    "Дискретизация: Можно разбить диапазон возможных значений (например, цен на жильё) на несколько интервалов или категорий. Например, можно создать категории, такие как \"низкая цена\", \"средняя цена\" и \"высокая цена\". Затем задача регрессии превращается в задачу классификации, где модель будет предсказывать, к какой категории принадлежит цена.\n",
    "Классификация по квантилям: Можно использовать квантильное разбиение, чтобы разделить данные на группы, основанные на процентилях. Например, можно классифицировать жильё в зависимости от того, попадает ли его цена в нижние 25%, средние 50% или верхние 25%.\n",
    "Модели, работающие с вероятностями: В некоторых случаях можно использовать модели, которые предсказывают вероятность того, что цена жилья попадает в определённый диапазон, что также может быть интерпретировано как задача классификации."
   ]
  },
  {
   "cell_type": "markdown",
   "metadata": {},
   "source": [
    "## Введение в анализ данных"
   ]
  },
  {
   "cell_type": "markdown",
   "metadata": {},
   "source": [
    "#### Импорт библиотек"
   ]
  },
  {
   "cell_type": "code",
   "execution_count": 136,
   "metadata": {},
   "outputs": [],
   "source": [
    "import pandas as pd\n",
    "import numpy as np\n",
    "from sklearn.linear_model import LinearRegression\n",
    "from sklearn.tree import DecisionTreeRegressor\n",
    "from sklearn import datasets, model_selection, metrics\n",
    "from sklearn.preprocessing import OneHotEncoder\n",
    "from sklearn.preprocessing import PolynomialFeatures\n",
    "from sklearn.metrics import mean_absolute_error, mean_squared_error\n",
    "from sklearn.metrics import accuracy_score\n",
    "import lightgbm as lgb\n",
    "from scipy import stats\n",
    "import statsmodels.api as sm\n",
    "import matplotlib.pyplot as plt\n",
    "import seaborn as sns"
   ]
  },
  {
   "cell_type": "markdown",
   "metadata": {},
   "source": [
    "### Получение данных для обучения модели"
   ]
  },
  {
   "cell_type": "code",
   "execution_count": 65,
   "metadata": {},
   "outputs": [
    {
     "data": {
      "text/html": [
       "<div>\n",
       "<style scoped>\n",
       "    .dataframe tbody tr th:only-of-type {\n",
       "        vertical-align: middle;\n",
       "    }\n",
       "\n",
       "    .dataframe tbody tr th {\n",
       "        vertical-align: top;\n",
       "    }\n",
       "\n",
       "    .dataframe thead th {\n",
       "        text-align: right;\n",
       "    }\n",
       "</style>\n",
       "<table border=\"1\" class=\"dataframe\">\n",
       "  <thead>\n",
       "    <tr style=\"text-align: right;\">\n",
       "      <th></th>\n",
       "      <th>bathrooms</th>\n",
       "      <th>bedrooms</th>\n",
       "      <th>building_id</th>\n",
       "      <th>created</th>\n",
       "      <th>description</th>\n",
       "      <th>display_address</th>\n",
       "      <th>features</th>\n",
       "      <th>latitude</th>\n",
       "      <th>listing_id</th>\n",
       "      <th>longitude</th>\n",
       "      <th>manager_id</th>\n",
       "      <th>photos</th>\n",
       "      <th>price</th>\n",
       "      <th>street_address</th>\n",
       "      <th>interest_level</th>\n",
       "    </tr>\n",
       "  </thead>\n",
       "  <tbody>\n",
       "    <tr>\n",
       "      <th>4</th>\n",
       "      <td>1.0</td>\n",
       "      <td>1</td>\n",
       "      <td>8579a0b0d54db803821a35a4a615e97a</td>\n",
       "      <td>2016-06-16 05:55:27</td>\n",
       "      <td>Spacious 1 Bedroom 1 Bathroom in Williamsburg!...</td>\n",
       "      <td>145 Borinquen Place</td>\n",
       "      <td>[Dining Room, Pre-War, Laundry in Building, Di...</td>\n",
       "      <td>40.7108</td>\n",
       "      <td>7170325</td>\n",
       "      <td>-73.9539</td>\n",
       "      <td>a10db4590843d78c784171a107bdacb4</td>\n",
       "      <td>[https://photos.renthop.com/2/7170325_3bb5ac84...</td>\n",
       "      <td>2400</td>\n",
       "      <td>145 Borinquen Place</td>\n",
       "      <td>medium</td>\n",
       "    </tr>\n",
       "    <tr>\n",
       "      <th>6</th>\n",
       "      <td>1.0</td>\n",
       "      <td>2</td>\n",
       "      <td>b8e75fc949a6cd8225b455648a951712</td>\n",
       "      <td>2016-06-01 05:44:33</td>\n",
       "      <td>BRAND NEW GUT RENOVATED TRUE 2 BEDROOMFind you...</td>\n",
       "      <td>East 44th</td>\n",
       "      <td>[Doorman, Elevator, Laundry in Building, Dishw...</td>\n",
       "      <td>40.7513</td>\n",
       "      <td>7092344</td>\n",
       "      <td>-73.9722</td>\n",
       "      <td>955db33477af4f40004820b4aed804a0</td>\n",
       "      <td>[https://photos.renthop.com/2/7092344_7663c19a...</td>\n",
       "      <td>3800</td>\n",
       "      <td>230 East 44th</td>\n",
       "      <td>low</td>\n",
       "    </tr>\n",
       "    <tr>\n",
       "      <th>9</th>\n",
       "      <td>1.0</td>\n",
       "      <td>2</td>\n",
       "      <td>cd759a988b8f23924b5a2058d5ab2b49</td>\n",
       "      <td>2016-06-14 15:19:59</td>\n",
       "      <td>**FLEX 2 BEDROOM WITH FULL PRESSURIZED WALL**L...</td>\n",
       "      <td>East 56th Street</td>\n",
       "      <td>[Doorman, Elevator, Laundry in Building, Laund...</td>\n",
       "      <td>40.7575</td>\n",
       "      <td>7158677</td>\n",
       "      <td>-73.9625</td>\n",
       "      <td>c8b10a317b766204f08e613cef4ce7a0</td>\n",
       "      <td>[https://photos.renthop.com/2/7158677_c897a134...</td>\n",
       "      <td>3495</td>\n",
       "      <td>405 East 56th Street</td>\n",
       "      <td>medium</td>\n",
       "    </tr>\n",
       "    <tr>\n",
       "      <th>10</th>\n",
       "      <td>1.5</td>\n",
       "      <td>3</td>\n",
       "      <td>53a5b119ba8f7b61d4e010512e0dfc85</td>\n",
       "      <td>2016-06-24 07:54:24</td>\n",
       "      <td>A Brand New 3 Bedroom 1.5 bath ApartmentEnjoy ...</td>\n",
       "      <td>Metropolitan Avenue</td>\n",
       "      <td>[]</td>\n",
       "      <td>40.7145</td>\n",
       "      <td>7211212</td>\n",
       "      <td>-73.9425</td>\n",
       "      <td>5ba989232d0489da1b5f2c45f6688adc</td>\n",
       "      <td>[https://photos.renthop.com/2/7211212_1ed4542e...</td>\n",
       "      <td>3000</td>\n",
       "      <td>792 Metropolitan Avenue</td>\n",
       "      <td>medium</td>\n",
       "    </tr>\n",
       "    <tr>\n",
       "      <th>15</th>\n",
       "      <td>1.0</td>\n",
       "      <td>0</td>\n",
       "      <td>bfb9405149bfff42a92980b594c28234</td>\n",
       "      <td>2016-06-28 03:50:23</td>\n",
       "      <td>Over-sized Studio w abundant closets. Availabl...</td>\n",
       "      <td>East 34th Street</td>\n",
       "      <td>[Doorman, Elevator, Fitness Center, Laundry in...</td>\n",
       "      <td>40.7439</td>\n",
       "      <td>7225292</td>\n",
       "      <td>-73.9743</td>\n",
       "      <td>2c3b41f588fbb5234d8a1e885a436cfa</td>\n",
       "      <td>[https://photos.renthop.com/2/7225292_901f1984...</td>\n",
       "      <td>2795</td>\n",
       "      <td>340 East 34th Street</td>\n",
       "      <td>low</td>\n",
       "    </tr>\n",
       "    <tr>\n",
       "      <th>...</th>\n",
       "      <td>...</td>\n",
       "      <td>...</td>\n",
       "      <td>...</td>\n",
       "      <td>...</td>\n",
       "      <td>...</td>\n",
       "      <td>...</td>\n",
       "      <td>...</td>\n",
       "      <td>...</td>\n",
       "      <td>...</td>\n",
       "      <td>...</td>\n",
       "      <td>...</td>\n",
       "      <td>...</td>\n",
       "      <td>...</td>\n",
       "      <td>...</td>\n",
       "      <td>...</td>\n",
       "    </tr>\n",
       "    <tr>\n",
       "      <th>124000</th>\n",
       "      <td>1.0</td>\n",
       "      <td>3</td>\n",
       "      <td>92bbbf38baadfde0576fc496bd41749c</td>\n",
       "      <td>2016-04-05 03:58:33</td>\n",
       "      <td>There is 700 square feet of recently renovated...</td>\n",
       "      <td>W 171 Street</td>\n",
       "      <td>[Elevator, Dishwasher, Hardwood Floors]</td>\n",
       "      <td>40.8433</td>\n",
       "      <td>6824800</td>\n",
       "      <td>-73.9396</td>\n",
       "      <td>a61e21da3ba18c7a3d54cfdcc247e1f8</td>\n",
       "      <td>[https://photos.renthop.com/2/6824800_0682be16...</td>\n",
       "      <td>2800</td>\n",
       "      <td>620 W 171 Street</td>\n",
       "      <td>low</td>\n",
       "    </tr>\n",
       "    <tr>\n",
       "      <th>124002</th>\n",
       "      <td>1.0</td>\n",
       "      <td>2</td>\n",
       "      <td>5565db9b7cba3603834c4aa6f2950960</td>\n",
       "      <td>2016-04-02 02:25:31</td>\n",
       "      <td>2 bedroom apartment with updated kitchen, rece...</td>\n",
       "      <td>Broadway</td>\n",
       "      <td>[Common Outdoor Space, Cats Allowed, Dogs Allo...</td>\n",
       "      <td>40.8198</td>\n",
       "      <td>6813268</td>\n",
       "      <td>-73.9578</td>\n",
       "      <td>8f90e5e10e8a2d7cf997f016d89230eb</td>\n",
       "      <td>[https://photos.renthop.com/2/6813268_1e6fcc32...</td>\n",
       "      <td>2395</td>\n",
       "      <td>3333 Broadway</td>\n",
       "      <td>medium</td>\n",
       "    </tr>\n",
       "    <tr>\n",
       "      <th>124004</th>\n",
       "      <td>1.0</td>\n",
       "      <td>1</td>\n",
       "      <td>67997a128056ee1ed7d046bbb856e3c7</td>\n",
       "      <td>2016-04-26 05:42:03</td>\n",
       "      <td>No Brokers Fee * Never Lived 1 Bedroom 1 Bathr...</td>\n",
       "      <td>210 Brighton 15th St</td>\n",
       "      <td>[Dining Room, Elevator, Pre-War, Laundry in Bu...</td>\n",
       "      <td>40.5765</td>\n",
       "      <td>6927093</td>\n",
       "      <td>-73.9554</td>\n",
       "      <td>a10db4590843d78c784171a107bdacb4</td>\n",
       "      <td>[https://photos.renthop.com/2/6927093_93a52104...</td>\n",
       "      <td>1850</td>\n",
       "      <td>210 Brighton 15th St</td>\n",
       "      <td>medium</td>\n",
       "    </tr>\n",
       "    <tr>\n",
       "      <th>124008</th>\n",
       "      <td>1.0</td>\n",
       "      <td>2</td>\n",
       "      <td>3c0574a740154806c18bdf1fddd3d966</td>\n",
       "      <td>2016-04-19 02:47:33</td>\n",
       "      <td>Wonderful Bright Chelsea 2 Bedroom apartment o...</td>\n",
       "      <td>West 21st Street</td>\n",
       "      <td>[Pre-War, Laundry in Unit, Dishwasher, No Fee,...</td>\n",
       "      <td>40.7448</td>\n",
       "      <td>6892816</td>\n",
       "      <td>-74.0017</td>\n",
       "      <td>c3cd45f4381ac371507090e9ffabea80</td>\n",
       "      <td>[https://photos.renthop.com/2/6892816_1a8d087a...</td>\n",
       "      <td>4195</td>\n",
       "      <td>350 West 21st Street</td>\n",
       "      <td>medium</td>\n",
       "    </tr>\n",
       "    <tr>\n",
       "      <th>124009</th>\n",
       "      <td>1.0</td>\n",
       "      <td>3</td>\n",
       "      <td>d89f514c3ed0abaae52cba7017ac0701</td>\n",
       "      <td>2016-04-20 05:34:00</td>\n",
       "      <td>***PRIME MIDTOWN EAST OFF PARK AVE***TRUE 3 BE...</td>\n",
       "      <td>E 54th St</td>\n",
       "      <td>[Dining Room, Elevator, Laundry in Building, D...</td>\n",
       "      <td>40.7594</td>\n",
       "      <td>6901023</td>\n",
       "      <td>-73.9712</td>\n",
       "      <td>e90f2ded843cdb2efd65ef47d9fc8029</td>\n",
       "      <td>[https://photos.renthop.com/2/6901023_02052d90...</td>\n",
       "      <td>4280</td>\n",
       "      <td>123 E 54th St</td>\n",
       "      <td>high</td>\n",
       "    </tr>\n",
       "  </tbody>\n",
       "</table>\n",
       "<p>49352 rows × 15 columns</p>\n",
       "</div>"
      ],
      "text/plain": [
       "        bathrooms  bedrooms                       building_id  \\\n",
       "4             1.0         1  8579a0b0d54db803821a35a4a615e97a   \n",
       "6             1.0         2  b8e75fc949a6cd8225b455648a951712   \n",
       "9             1.0         2  cd759a988b8f23924b5a2058d5ab2b49   \n",
       "10            1.5         3  53a5b119ba8f7b61d4e010512e0dfc85   \n",
       "15            1.0         0  bfb9405149bfff42a92980b594c28234   \n",
       "...           ...       ...                               ...   \n",
       "124000        1.0         3  92bbbf38baadfde0576fc496bd41749c   \n",
       "124002        1.0         2  5565db9b7cba3603834c4aa6f2950960   \n",
       "124004        1.0         1  67997a128056ee1ed7d046bbb856e3c7   \n",
       "124008        1.0         2  3c0574a740154806c18bdf1fddd3d966   \n",
       "124009        1.0         3  d89f514c3ed0abaae52cba7017ac0701   \n",
       "\n",
       "                    created  \\\n",
       "4       2016-06-16 05:55:27   \n",
       "6       2016-06-01 05:44:33   \n",
       "9       2016-06-14 15:19:59   \n",
       "10      2016-06-24 07:54:24   \n",
       "15      2016-06-28 03:50:23   \n",
       "...                     ...   \n",
       "124000  2016-04-05 03:58:33   \n",
       "124002  2016-04-02 02:25:31   \n",
       "124004  2016-04-26 05:42:03   \n",
       "124008  2016-04-19 02:47:33   \n",
       "124009  2016-04-20 05:34:00   \n",
       "\n",
       "                                              description  \\\n",
       "4       Spacious 1 Bedroom 1 Bathroom in Williamsburg!...   \n",
       "6       BRAND NEW GUT RENOVATED TRUE 2 BEDROOMFind you...   \n",
       "9       **FLEX 2 BEDROOM WITH FULL PRESSURIZED WALL**L...   \n",
       "10      A Brand New 3 Bedroom 1.5 bath ApartmentEnjoy ...   \n",
       "15      Over-sized Studio w abundant closets. Availabl...   \n",
       "...                                                   ...   \n",
       "124000  There is 700 square feet of recently renovated...   \n",
       "124002  2 bedroom apartment with updated kitchen, rece...   \n",
       "124004  No Brokers Fee * Never Lived 1 Bedroom 1 Bathr...   \n",
       "124008  Wonderful Bright Chelsea 2 Bedroom apartment o...   \n",
       "124009  ***PRIME MIDTOWN EAST OFF PARK AVE***TRUE 3 BE...   \n",
       "\n",
       "             display_address  \\\n",
       "4        145 Borinquen Place   \n",
       "6                  East 44th   \n",
       "9           East 56th Street   \n",
       "10       Metropolitan Avenue   \n",
       "15          East 34th Street   \n",
       "...                      ...   \n",
       "124000          W 171 Street   \n",
       "124002              Broadway   \n",
       "124004  210 Brighton 15th St   \n",
       "124008      West 21st Street   \n",
       "124009             E 54th St   \n",
       "\n",
       "                                                 features  latitude  \\\n",
       "4       [Dining Room, Pre-War, Laundry in Building, Di...   40.7108   \n",
       "6       [Doorman, Elevator, Laundry in Building, Dishw...   40.7513   \n",
       "9       [Doorman, Elevator, Laundry in Building, Laund...   40.7575   \n",
       "10                                                     []   40.7145   \n",
       "15      [Doorman, Elevator, Fitness Center, Laundry in...   40.7439   \n",
       "...                                                   ...       ...   \n",
       "124000            [Elevator, Dishwasher, Hardwood Floors]   40.8433   \n",
       "124002  [Common Outdoor Space, Cats Allowed, Dogs Allo...   40.8198   \n",
       "124004  [Dining Room, Elevator, Pre-War, Laundry in Bu...   40.5765   \n",
       "124008  [Pre-War, Laundry in Unit, Dishwasher, No Fee,...   40.7448   \n",
       "124009  [Dining Room, Elevator, Laundry in Building, D...   40.7594   \n",
       "\n",
       "        listing_id  longitude                        manager_id  \\\n",
       "4          7170325   -73.9539  a10db4590843d78c784171a107bdacb4   \n",
       "6          7092344   -73.9722  955db33477af4f40004820b4aed804a0   \n",
       "9          7158677   -73.9625  c8b10a317b766204f08e613cef4ce7a0   \n",
       "10         7211212   -73.9425  5ba989232d0489da1b5f2c45f6688adc   \n",
       "15         7225292   -73.9743  2c3b41f588fbb5234d8a1e885a436cfa   \n",
       "...            ...        ...                               ...   \n",
       "124000     6824800   -73.9396  a61e21da3ba18c7a3d54cfdcc247e1f8   \n",
       "124002     6813268   -73.9578  8f90e5e10e8a2d7cf997f016d89230eb   \n",
       "124004     6927093   -73.9554  a10db4590843d78c784171a107bdacb4   \n",
       "124008     6892816   -74.0017  c3cd45f4381ac371507090e9ffabea80   \n",
       "124009     6901023   -73.9712  e90f2ded843cdb2efd65ef47d9fc8029   \n",
       "\n",
       "                                                   photos  price  \\\n",
       "4       [https://photos.renthop.com/2/7170325_3bb5ac84...   2400   \n",
       "6       [https://photos.renthop.com/2/7092344_7663c19a...   3800   \n",
       "9       [https://photos.renthop.com/2/7158677_c897a134...   3495   \n",
       "10      [https://photos.renthop.com/2/7211212_1ed4542e...   3000   \n",
       "15      [https://photos.renthop.com/2/7225292_901f1984...   2795   \n",
       "...                                                   ...    ...   \n",
       "124000  [https://photos.renthop.com/2/6824800_0682be16...   2800   \n",
       "124002  [https://photos.renthop.com/2/6813268_1e6fcc32...   2395   \n",
       "124004  [https://photos.renthop.com/2/6927093_93a52104...   1850   \n",
       "124008  [https://photos.renthop.com/2/6892816_1a8d087a...   4195   \n",
       "124009  [https://photos.renthop.com/2/6901023_02052d90...   4280   \n",
       "\n",
       "                 street_address interest_level  \n",
       "4           145 Borinquen Place         medium  \n",
       "6                 230 East 44th            low  \n",
       "9          405 East 56th Street         medium  \n",
       "10      792 Metropolitan Avenue         medium  \n",
       "15         340 East 34th Street            low  \n",
       "...                         ...            ...  \n",
       "124000         620 W 171 Street            low  \n",
       "124002            3333 Broadway         medium  \n",
       "124004     210 Brighton 15th St         medium  \n",
       "124008     350 West 21st Street         medium  \n",
       "124009            123 E 54th St           high  \n",
       "\n",
       "[49352 rows x 15 columns]"
      ]
     },
     "execution_count": 65,
     "metadata": {},
     "output_type": "execute_result"
    }
   ],
   "source": [
    "train_data_path = '../../data/train.json'\n",
    "df = pd.read_json(train_data_path)\n",
    "df"
   ]
  },
  {
   "cell_type": "markdown",
   "metadata": {},
   "source": [
    "### Размер данных"
   ]
  },
  {
   "cell_type": "code",
   "execution_count": 66,
   "metadata": {},
   "outputs": [
    {
     "data": {
      "text/plain": [
       "(49352, 15)"
      ]
     },
     "execution_count": 66,
     "metadata": {},
     "output_type": "execute_result"
    }
   ],
   "source": [
    "df.shape"
   ]
  },
  {
   "cell_type": "markdown",
   "metadata": {},
   "source": [
    "### Целевой столбец"
   ]
  },
  {
   "cell_type": "code",
   "execution_count": 67,
   "metadata": {},
   "outputs": [
    {
     "data": {
      "text/plain": [
       "4         2400\n",
       "6         3800\n",
       "9         3495\n",
       "10        3000\n",
       "15        2795\n",
       "          ... \n",
       "124000    2800\n",
       "124002    2395\n",
       "124004    1850\n",
       "124008    4195\n",
       "124009    4280\n",
       "Name: price, Length: 49352, dtype: int64"
      ]
     },
     "execution_count": 67,
     "metadata": {},
     "output_type": "execute_result"
    }
   ],
   "source": [
    "df['price']"
   ]
  },
  {
   "cell_type": "markdown",
   "metadata": {},
   "source": [
    "### Быстрый анализ данных"
   ]
  },
  {
   "cell_type": "code",
   "execution_count": 68,
   "metadata": {},
   "outputs": [
    {
     "name": "stdout",
     "output_type": "stream",
     "text": [
      "<class 'pandas.core.frame.DataFrame'>\n",
      "Index: 49352 entries, 4 to 124009\n",
      "Data columns (total 15 columns):\n",
      " #   Column           Non-Null Count  Dtype  \n",
      "---  ------           --------------  -----  \n",
      " 0   bathrooms        49352 non-null  float64\n",
      " 1   bedrooms         49352 non-null  int64  \n",
      " 2   building_id      49352 non-null  object \n",
      " 3   created          49352 non-null  object \n",
      " 4   description      49352 non-null  object \n",
      " 5   display_address  49352 non-null  object \n",
      " 6   features         49352 non-null  object \n",
      " 7   latitude         49352 non-null  float64\n",
      " 8   listing_id       49352 non-null  int64  \n",
      " 9   longitude        49352 non-null  float64\n",
      " 10  manager_id       49352 non-null  object \n",
      " 11  photos           49352 non-null  object \n",
      " 12  price            49352 non-null  int64  \n",
      " 13  street_address   49352 non-null  object \n",
      " 14  interest_level   49352 non-null  object \n",
      "dtypes: float64(3), int64(3), object(9)\n",
      "memory usage: 6.0+ MB\n"
     ]
    }
   ],
   "source": [
    "df.info()"
   ]
  },
  {
   "cell_type": "code",
   "execution_count": 69,
   "metadata": {},
   "outputs": [
    {
     "data": {
      "text/html": [
       "<div>\n",
       "<style scoped>\n",
       "    .dataframe tbody tr th:only-of-type {\n",
       "        vertical-align: middle;\n",
       "    }\n",
       "\n",
       "    .dataframe tbody tr th {\n",
       "        vertical-align: top;\n",
       "    }\n",
       "\n",
       "    .dataframe thead th {\n",
       "        text-align: right;\n",
       "    }\n",
       "</style>\n",
       "<table border=\"1\" class=\"dataframe\">\n",
       "  <thead>\n",
       "    <tr style=\"text-align: right;\">\n",
       "      <th></th>\n",
       "      <th>bathrooms</th>\n",
       "      <th>bedrooms</th>\n",
       "      <th>latitude</th>\n",
       "      <th>listing_id</th>\n",
       "      <th>longitude</th>\n",
       "      <th>price</th>\n",
       "    </tr>\n",
       "  </thead>\n",
       "  <tbody>\n",
       "    <tr>\n",
       "      <th>count</th>\n",
       "      <td>49352.00000</td>\n",
       "      <td>49352.000000</td>\n",
       "      <td>49352.000000</td>\n",
       "      <td>4.935200e+04</td>\n",
       "      <td>49352.000000</td>\n",
       "      <td>4.935200e+04</td>\n",
       "    </tr>\n",
       "    <tr>\n",
       "      <th>mean</th>\n",
       "      <td>1.21218</td>\n",
       "      <td>1.541640</td>\n",
       "      <td>40.741545</td>\n",
       "      <td>7.024055e+06</td>\n",
       "      <td>-73.955716</td>\n",
       "      <td>3.830174e+03</td>\n",
       "    </tr>\n",
       "    <tr>\n",
       "      <th>std</th>\n",
       "      <td>0.50142</td>\n",
       "      <td>1.115018</td>\n",
       "      <td>0.638535</td>\n",
       "      <td>1.262746e+05</td>\n",
       "      <td>1.177912</td>\n",
       "      <td>2.206687e+04</td>\n",
       "    </tr>\n",
       "    <tr>\n",
       "      <th>min</th>\n",
       "      <td>0.00000</td>\n",
       "      <td>0.000000</td>\n",
       "      <td>0.000000</td>\n",
       "      <td>6.811957e+06</td>\n",
       "      <td>-118.271000</td>\n",
       "      <td>4.300000e+01</td>\n",
       "    </tr>\n",
       "    <tr>\n",
       "      <th>25%</th>\n",
       "      <td>1.00000</td>\n",
       "      <td>1.000000</td>\n",
       "      <td>40.728300</td>\n",
       "      <td>6.915888e+06</td>\n",
       "      <td>-73.991700</td>\n",
       "      <td>2.500000e+03</td>\n",
       "    </tr>\n",
       "    <tr>\n",
       "      <th>50%</th>\n",
       "      <td>1.00000</td>\n",
       "      <td>1.000000</td>\n",
       "      <td>40.751800</td>\n",
       "      <td>7.021070e+06</td>\n",
       "      <td>-73.977900</td>\n",
       "      <td>3.150000e+03</td>\n",
       "    </tr>\n",
       "    <tr>\n",
       "      <th>75%</th>\n",
       "      <td>1.00000</td>\n",
       "      <td>2.000000</td>\n",
       "      <td>40.774300</td>\n",
       "      <td>7.128733e+06</td>\n",
       "      <td>-73.954800</td>\n",
       "      <td>4.100000e+03</td>\n",
       "    </tr>\n",
       "    <tr>\n",
       "      <th>max</th>\n",
       "      <td>10.00000</td>\n",
       "      <td>8.000000</td>\n",
       "      <td>44.883500</td>\n",
       "      <td>7.753784e+06</td>\n",
       "      <td>0.000000</td>\n",
       "      <td>4.490000e+06</td>\n",
       "    </tr>\n",
       "  </tbody>\n",
       "</table>\n",
       "</div>"
      ],
      "text/plain": [
       "         bathrooms      bedrooms      latitude    listing_id     longitude  \\\n",
       "count  49352.00000  49352.000000  49352.000000  4.935200e+04  49352.000000   \n",
       "mean       1.21218      1.541640     40.741545  7.024055e+06    -73.955716   \n",
       "std        0.50142      1.115018      0.638535  1.262746e+05      1.177912   \n",
       "min        0.00000      0.000000      0.000000  6.811957e+06   -118.271000   \n",
       "25%        1.00000      1.000000     40.728300  6.915888e+06    -73.991700   \n",
       "50%        1.00000      1.000000     40.751800  7.021070e+06    -73.977900   \n",
       "75%        1.00000      2.000000     40.774300  7.128733e+06    -73.954800   \n",
       "max       10.00000      8.000000     44.883500  7.753784e+06      0.000000   \n",
       "\n",
       "              price  \n",
       "count  4.935200e+04  \n",
       "mean   3.830174e+03  \n",
       "std    2.206687e+04  \n",
       "min    4.300000e+01  \n",
       "25%    2.500000e+03  \n",
       "50%    3.150000e+03  \n",
       "75%    4.100000e+03  \n",
       "max    4.490000e+06  "
      ]
     },
     "execution_count": 69,
     "metadata": {},
     "output_type": "execute_result"
    }
   ],
   "source": [
    "df.describe()"
   ]
  },
  {
   "cell_type": "code",
   "execution_count": 70,
   "metadata": {},
   "outputs": [
    {
     "data": {
      "text/html": [
       "<div>\n",
       "<style scoped>\n",
       "    .dataframe tbody tr th:only-of-type {\n",
       "        vertical-align: middle;\n",
       "    }\n",
       "\n",
       "    .dataframe tbody tr th {\n",
       "        vertical-align: top;\n",
       "    }\n",
       "\n",
       "    .dataframe thead th {\n",
       "        text-align: right;\n",
       "    }\n",
       "</style>\n",
       "<table border=\"1\" class=\"dataframe\">\n",
       "  <thead>\n",
       "    <tr style=\"text-align: right;\">\n",
       "      <th></th>\n",
       "      <th>bathrooms</th>\n",
       "      <th>bedrooms</th>\n",
       "      <th>latitude</th>\n",
       "      <th>listing_id</th>\n",
       "      <th>longitude</th>\n",
       "      <th>price</th>\n",
       "    </tr>\n",
       "  </thead>\n",
       "  <tbody>\n",
       "    <tr>\n",
       "      <th>bathrooms</th>\n",
       "      <td>1.000000</td>\n",
       "      <td>0.533446</td>\n",
       "      <td>-0.009657</td>\n",
       "      <td>0.000776</td>\n",
       "      <td>0.010393</td>\n",
       "      <td>0.069661</td>\n",
       "    </tr>\n",
       "    <tr>\n",
       "      <th>bedrooms</th>\n",
       "      <td>0.533446</td>\n",
       "      <td>1.000000</td>\n",
       "      <td>-0.004745</td>\n",
       "      <td>0.011968</td>\n",
       "      <td>0.006892</td>\n",
       "      <td>0.051788</td>\n",
       "    </tr>\n",
       "    <tr>\n",
       "      <th>latitude</th>\n",
       "      <td>-0.009657</td>\n",
       "      <td>-0.004745</td>\n",
       "      <td>1.000000</td>\n",
       "      <td>0.001712</td>\n",
       "      <td>-0.966807</td>\n",
       "      <td>-0.000707</td>\n",
       "    </tr>\n",
       "    <tr>\n",
       "      <th>listing_id</th>\n",
       "      <td>0.000776</td>\n",
       "      <td>0.011968</td>\n",
       "      <td>0.001712</td>\n",
       "      <td>1.000000</td>\n",
       "      <td>-0.000907</td>\n",
       "      <td>0.008090</td>\n",
       "    </tr>\n",
       "    <tr>\n",
       "      <th>longitude</th>\n",
       "      <td>0.010393</td>\n",
       "      <td>0.006892</td>\n",
       "      <td>-0.966807</td>\n",
       "      <td>-0.000907</td>\n",
       "      <td>1.000000</td>\n",
       "      <td>-0.000087</td>\n",
       "    </tr>\n",
       "    <tr>\n",
       "      <th>price</th>\n",
       "      <td>0.069661</td>\n",
       "      <td>0.051788</td>\n",
       "      <td>-0.000707</td>\n",
       "      <td>0.008090</td>\n",
       "      <td>-0.000087</td>\n",
       "      <td>1.000000</td>\n",
       "    </tr>\n",
       "  </tbody>\n",
       "</table>\n",
       "</div>"
      ],
      "text/plain": [
       "            bathrooms  bedrooms  latitude  listing_id  longitude     price\n",
       "bathrooms    1.000000  0.533446 -0.009657    0.000776   0.010393  0.069661\n",
       "bedrooms     0.533446  1.000000 -0.004745    0.011968   0.006892  0.051788\n",
       "latitude    -0.009657 -0.004745  1.000000    0.001712  -0.966807 -0.000707\n",
       "listing_id   0.000776  0.011968  0.001712    1.000000  -0.000907  0.008090\n",
       "longitude    0.010393  0.006892 -0.966807   -0.000907   1.000000 -0.000087\n",
       "price        0.069661  0.051788 -0.000707    0.008090  -0.000087  1.000000"
      ]
     },
     "execution_count": 70,
     "metadata": {},
     "output_type": "execute_result"
    }
   ],
   "source": [
    "corr_df = df.select_dtypes(include=['number'])\n",
    "corr_df.corr()"
   ]
  },
  {
   "cell_type": "code",
   "execution_count": 71,
   "metadata": {},
   "outputs": [
    {
     "name": "stdout",
     "output_type": "stream",
     "text": [
      "\n",
      "Проверка на пустые значения в столбцах:\n",
      "bathrooms          0\n",
      "bedrooms           0\n",
      "building_id        0\n",
      "created            0\n",
      "description        0\n",
      "display_address    0\n",
      "features           0\n",
      "latitude           0\n",
      "listing_id         0\n",
      "longitude          0\n",
      "manager_id         0\n",
      "photos             0\n",
      "price              0\n",
      "street_address     0\n",
      "interest_level     0\n",
      "dtype: int64\n"
     ]
    }
   ],
   "source": [
    "print(\"\\nПроверка на пустые значения в столбцах:\")\n",
    "print(df.isnull().sum())"
   ]
  },
  {
   "cell_type": "markdown",
   "metadata": {},
   "source": [
    "Результат: Пустых значений нет, типы данных столбцов: int64, float64, object. Всего в датафрейме 124009 значений по 49352 в каждом из 15 столбцов."
   ]
  },
  {
   "cell_type": "code",
   "execution_count": 72,
   "metadata": {},
   "outputs": [
    {
     "data": {
      "text/html": [
       "<div>\n",
       "<style scoped>\n",
       "    .dataframe tbody tr th:only-of-type {\n",
       "        vertical-align: middle;\n",
       "    }\n",
       "\n",
       "    .dataframe tbody tr th {\n",
       "        vertical-align: top;\n",
       "    }\n",
       "\n",
       "    .dataframe thead th {\n",
       "        text-align: right;\n",
       "    }\n",
       "</style>\n",
       "<table border=\"1\" class=\"dataframe\">\n",
       "  <thead>\n",
       "    <tr style=\"text-align: right;\">\n",
       "      <th></th>\n",
       "      <th>bathrooms</th>\n",
       "      <th>bedrooms</th>\n",
       "      <th>interest_level</th>\n",
       "      <th>price</th>\n",
       "    </tr>\n",
       "  </thead>\n",
       "  <tbody>\n",
       "    <tr>\n",
       "      <th>4</th>\n",
       "      <td>1.0</td>\n",
       "      <td>1</td>\n",
       "      <td>medium</td>\n",
       "      <td>2400</td>\n",
       "    </tr>\n",
       "    <tr>\n",
       "      <th>6</th>\n",
       "      <td>1.0</td>\n",
       "      <td>2</td>\n",
       "      <td>low</td>\n",
       "      <td>3800</td>\n",
       "    </tr>\n",
       "    <tr>\n",
       "      <th>9</th>\n",
       "      <td>1.0</td>\n",
       "      <td>2</td>\n",
       "      <td>medium</td>\n",
       "      <td>3495</td>\n",
       "    </tr>\n",
       "    <tr>\n",
       "      <th>10</th>\n",
       "      <td>1.5</td>\n",
       "      <td>3</td>\n",
       "      <td>medium</td>\n",
       "      <td>3000</td>\n",
       "    </tr>\n",
       "    <tr>\n",
       "      <th>15</th>\n",
       "      <td>1.0</td>\n",
       "      <td>0</td>\n",
       "      <td>low</td>\n",
       "      <td>2795</td>\n",
       "    </tr>\n",
       "    <tr>\n",
       "      <th>...</th>\n",
       "      <td>...</td>\n",
       "      <td>...</td>\n",
       "      <td>...</td>\n",
       "      <td>...</td>\n",
       "    </tr>\n",
       "    <tr>\n",
       "      <th>124000</th>\n",
       "      <td>1.0</td>\n",
       "      <td>3</td>\n",
       "      <td>low</td>\n",
       "      <td>2800</td>\n",
       "    </tr>\n",
       "    <tr>\n",
       "      <th>124002</th>\n",
       "      <td>1.0</td>\n",
       "      <td>2</td>\n",
       "      <td>medium</td>\n",
       "      <td>2395</td>\n",
       "    </tr>\n",
       "    <tr>\n",
       "      <th>124004</th>\n",
       "      <td>1.0</td>\n",
       "      <td>1</td>\n",
       "      <td>medium</td>\n",
       "      <td>1850</td>\n",
       "    </tr>\n",
       "    <tr>\n",
       "      <th>124008</th>\n",
       "      <td>1.0</td>\n",
       "      <td>2</td>\n",
       "      <td>medium</td>\n",
       "      <td>4195</td>\n",
       "    </tr>\n",
       "    <tr>\n",
       "      <th>124009</th>\n",
       "      <td>1.0</td>\n",
       "      <td>3</td>\n",
       "      <td>high</td>\n",
       "      <td>4280</td>\n",
       "    </tr>\n",
       "  </tbody>\n",
       "</table>\n",
       "<p>49352 rows × 4 columns</p>\n",
       "</div>"
      ],
      "text/plain": [
       "        bathrooms  bedrooms interest_level  price\n",
       "4             1.0         1         medium   2400\n",
       "6             1.0         2            low   3800\n",
       "9             1.0         2         medium   3495\n",
       "10            1.5         3         medium   3000\n",
       "15            1.0         0            low   2795\n",
       "...           ...       ...            ...    ...\n",
       "124000        1.0         3            low   2800\n",
       "124002        1.0         2         medium   2395\n",
       "124004        1.0         1         medium   1850\n",
       "124008        1.0         2         medium   4195\n",
       "124009        1.0         3           high   4280\n",
       "\n",
       "[49352 rows x 4 columns]"
      ]
     },
     "execution_count": 72,
     "metadata": {},
     "output_type": "execute_result"
    }
   ],
   "source": [
    "final_df = df[['bathrooms', 'bedrooms', 'interest_level', 'price']]\n",
    "final_df"
   ]
  },
  {
   "cell_type": "code",
   "execution_count": 73,
   "metadata": {},
   "outputs": [
    {
     "data": {
      "text/plain": [
       "np.int64(49352)"
      ]
     },
     "execution_count": 73,
     "metadata": {},
     "output_type": "execute_result"
    }
   ],
   "source": [
    "count_price = final_df['price'].count()\n",
    "count_price"
   ]
  },
  {
   "cell_type": "markdown",
   "metadata": {},
   "source": [
    "## Анализ статистических данных"
   ]
  },
  {
   "cell_type": "markdown",
   "metadata": {},
   "source": [
    "### Целевой анализ"
   ]
  },
  {
   "cell_type": "markdown",
   "metadata": {},
   "source": [
    "### Построение гистограммы "
   ]
  },
  {
   "cell_type": "code",
   "execution_count": 74,
   "metadata": {},
   "outputs": [
    {
     "data": {
      "text/plain": [
       "<function matplotlib.pyplot.show(close=None, block=None)>"
      ]
     },
     "execution_count": 74,
     "metadata": {},
     "output_type": "execute_result"
    },
    {
     "data": {
      "image/png": "[encoded data removed]",
      "text/plain": [
       "<Figure size 2500x1000 with 1 Axes>"
      ]
     },
     "metadata": {},
     "output_type": "display_data"
    }
   ],
   "source": [
    "plt.figure(figsize=(25, 10))\n",
    "plt.hist(final_df['price'], bins=range(20000), alpha = 0.7,  color='blue',  linewidth=5)\n",
    "plt.title('Распределение цены')\n",
    "plt.xlabel('Цена')\n",
    "plt.ylabel('Частота')\n",
    "plt.grid()\n",
    "plt.show"
   ]
  },
  {
   "cell_type": "markdown",
   "metadata": {},
   "source": [
    "### Построение boxplot"
   ]
  },
  {
   "cell_type": "code",
   "execution_count": 75,
   "metadata": {},
   "outputs": [
    {
     "data": {
      "image/png": "[encoded data removed]",
      "text/plain": [
       "<Figure size 2500x1800 with 1 Axes>"
      ]
     },
     "metadata": {},
     "output_type": "display_data"
    }
   ],
   "source": [
    "plt.figure(figsize=(25, 18))\n",
    "plt.boxplot(final_df['price'],\n",
    "            positions = [1], \n",
    "            boxprops=dict(linewidth=3, color = 'green'),\n",
    "            medianprops=dict(linewidth=2, color = 'red'),\n",
    "            whiskerprops=dict(color = 'red'),\n",
    "            capprops = dict(color = 'red')\n",
    "            )\n",
    "plt.title('Boxplot распределения цены', fontsize=16)\n",
    "plt.ylabel('Цена', fontsize=14)\n",
    "plt.ylim(0, 10000)\n",
    "plt.grid(axis='x')\n",
    "plt.show()"
   ]
  },
  {
   "cell_type": "markdown",
   "metadata": {},
   "source": [
    "### Удаление строк, которые находятся за пределами 1 и 99 процентилей, из целевого столбца."
   ]
  },
  {
   "cell_type": "code",
   "execution_count": 76,
   "metadata": {},
   "outputs": [
    {
     "name": "stdout",
     "output_type": "stream",
     "text": [
      "1475.0 - 13000.0\n"
     ]
    }
   ],
   "source": [
    "lower_bound = final_df['price'].quantile(0.01)\n",
    "upper_bound = final_df['price'].quantile(0.99)\n",
    "print(f\"{lower_bound} - {upper_bound}\")"
   ]
  },
  {
   "cell_type": "code",
   "execution_count": 77,
   "metadata": {},
   "outputs": [
    {
     "data": {
      "text/html": [
       "<div>\n",
       "<style scoped>\n",
       "    .dataframe tbody tr th:only-of-type {\n",
       "        vertical-align: middle;\n",
       "    }\n",
       "\n",
       "    .dataframe tbody tr th {\n",
       "        vertical-align: top;\n",
       "    }\n",
       "\n",
       "    .dataframe thead th {\n",
       "        text-align: right;\n",
       "    }\n",
       "</style>\n",
       "<table border=\"1\" class=\"dataframe\">\n",
       "  <thead>\n",
       "    <tr style=\"text-align: right;\">\n",
       "      <th></th>\n",
       "      <th>bathrooms</th>\n",
       "      <th>bedrooms</th>\n",
       "      <th>interest_level</th>\n",
       "      <th>price</th>\n",
       "    </tr>\n",
       "  </thead>\n",
       "  <tbody>\n",
       "    <tr>\n",
       "      <th>4</th>\n",
       "      <td>1.0</td>\n",
       "      <td>1</td>\n",
       "      <td>medium</td>\n",
       "      <td>2400</td>\n",
       "    </tr>\n",
       "    <tr>\n",
       "      <th>6</th>\n",
       "      <td>1.0</td>\n",
       "      <td>2</td>\n",
       "      <td>low</td>\n",
       "      <td>3800</td>\n",
       "    </tr>\n",
       "    <tr>\n",
       "      <th>9</th>\n",
       "      <td>1.0</td>\n",
       "      <td>2</td>\n",
       "      <td>medium</td>\n",
       "      <td>3495</td>\n",
       "    </tr>\n",
       "    <tr>\n",
       "      <th>10</th>\n",
       "      <td>1.5</td>\n",
       "      <td>3</td>\n",
       "      <td>medium</td>\n",
       "      <td>3000</td>\n",
       "    </tr>\n",
       "    <tr>\n",
       "      <th>15</th>\n",
       "      <td>1.0</td>\n",
       "      <td>0</td>\n",
       "      <td>low</td>\n",
       "      <td>2795</td>\n",
       "    </tr>\n",
       "    <tr>\n",
       "      <th>...</th>\n",
       "      <td>...</td>\n",
       "      <td>...</td>\n",
       "      <td>...</td>\n",
       "      <td>...</td>\n",
       "    </tr>\n",
       "    <tr>\n",
       "      <th>124000</th>\n",
       "      <td>1.0</td>\n",
       "      <td>3</td>\n",
       "      <td>low</td>\n",
       "      <td>2800</td>\n",
       "    </tr>\n",
       "    <tr>\n",
       "      <th>124002</th>\n",
       "      <td>1.0</td>\n",
       "      <td>2</td>\n",
       "      <td>medium</td>\n",
       "      <td>2395</td>\n",
       "    </tr>\n",
       "    <tr>\n",
       "      <th>124004</th>\n",
       "      <td>1.0</td>\n",
       "      <td>1</td>\n",
       "      <td>medium</td>\n",
       "      <td>1850</td>\n",
       "    </tr>\n",
       "    <tr>\n",
       "      <th>124008</th>\n",
       "      <td>1.0</td>\n",
       "      <td>2</td>\n",
       "      <td>medium</td>\n",
       "      <td>4195</td>\n",
       "    </tr>\n",
       "    <tr>\n",
       "      <th>124009</th>\n",
       "      <td>1.0</td>\n",
       "      <td>3</td>\n",
       "      <td>high</td>\n",
       "      <td>4280</td>\n",
       "    </tr>\n",
       "  </tbody>\n",
       "</table>\n",
       "<p>48379 rows × 4 columns</p>\n",
       "</div>"
      ],
      "text/plain": [
       "        bathrooms  bedrooms interest_level  price\n",
       "4             1.0         1         medium   2400\n",
       "6             1.0         2            low   3800\n",
       "9             1.0         2         medium   3495\n",
       "10            1.5         3         medium   3000\n",
       "15            1.0         0            low   2795\n",
       "...           ...       ...            ...    ...\n",
       "124000        1.0         3            low   2800\n",
       "124002        1.0         2         medium   2395\n",
       "124004        1.0         1         medium   1850\n",
       "124008        1.0         2         medium   4195\n",
       "124009        1.0         3           high   4280\n",
       "\n",
       "[48379 rows x 4 columns]"
      ]
     },
     "execution_count": 77,
     "metadata": {},
     "output_type": "execute_result"
    }
   ],
   "source": [
    "filtered_df = final_df[(final_df['price'] >= lower_bound) & (final_df['price'] <= upper_bound)]\n",
    "filtered_df"
   ]
  },
  {
   "cell_type": "code",
   "execution_count": 78,
   "metadata": {},
   "outputs": [
    {
     "name": "stdout",
     "output_type": "stream",
     "text": [
      "<class 'pandas.core.frame.DataFrame'>\n",
      "Index: 48379 entries, 4 to 124009\n",
      "Data columns (total 4 columns):\n",
      " #   Column          Non-Null Count  Dtype  \n",
      "---  ------          --------------  -----  \n",
      " 0   bathrooms       48379 non-null  float64\n",
      " 1   bedrooms        48379 non-null  int64  \n",
      " 2   interest_level  48379 non-null  object \n",
      " 3   price           48379 non-null  int64  \n",
      "dtypes: float64(1), int64(2), object(1)\n",
      "memory usage: 1.8+ MB\n"
     ]
    }
   ],
   "source": [
    "filtered_df.info()"
   ]
  },
  {
   "cell_type": "markdown",
   "metadata": {},
   "source": [
    "### Построение новой гистограммы"
   ]
  },
  {
   "cell_type": "code",
   "execution_count": 79,
   "metadata": {},
   "outputs": [
    {
     "data": {
      "text/plain": [
       "<function matplotlib.pyplot.show(close=None, block=None)>"
      ]
     },
     "execution_count": 79,
     "metadata": {},
     "output_type": "execute_result"
    },
    {
     "data": {
      "image/png": "[encoded data removed]",
      "text/plain": [
       "<Figure size 2500x1000 with 1 Axes>"
      ]
     },
     "metadata": {},
     "output_type": "display_data"
    }
   ],
   "source": [
    "plt.figure(figsize=(25, 10))\n",
    "plt.hist(filtered_df['price'], bins=range(20000), alpha = 0.7,  color='blue',  linewidth=5)\n",
    "plt.title('Распределение цены')\n",
    "plt.xlabel('Цена')\n",
    "plt.ylabel('Частота')\n",
    "plt.grid()\n",
    "plt.show"
   ]
  },
  {
   "cell_type": "markdown",
   "metadata": {},
   "source": [
    "После удаления строк, которые находятся за пределами 1 и 99 процентилей, гистограмма стала более кучной, так как произошло удаление выбросов"
   ]
  },
  {
   "cell_type": "markdown",
   "metadata": {},
   "source": [
    "### Анализ характеристик"
   ]
  },
  {
   "cell_type": "markdown",
   "metadata": {},
   "source": [
    "#### Работа со столбцом interest_level"
   ]
  },
  {
   "cell_type": "code",
   "execution_count": 80,
   "metadata": {},
   "outputs": [
    {
     "data": {
      "text/plain": [
       "<bound method Series.info of 4         medium\n",
       "6            low\n",
       "9         medium\n",
       "10        medium\n",
       "15           low\n",
       "           ...  \n",
       "124000       low\n",
       "124002    medium\n",
       "124004    medium\n",
       "124008    medium\n",
       "124009      high\n",
       "Name: interest_level, Length: 49352, dtype: object>"
      ]
     },
     "execution_count": 80,
     "metadata": {},
     "output_type": "execute_result"
    }
   ],
   "source": [
    "df['interest_level'].info"
   ]
  },
  {
   "cell_type": "code",
   "execution_count": 81,
   "metadata": {},
   "outputs": [
    {
     "data": {
      "text/plain": [
       "4         medium\n",
       "6            low\n",
       "9         medium\n",
       "10        medium\n",
       "15           low\n",
       "           ...  \n",
       "124000       low\n",
       "124002    medium\n",
       "124004    medium\n",
       "124008    medium\n",
       "124009      high\n",
       "Name: interest_level, Length: 49352, dtype: object"
      ]
     },
     "execution_count": 81,
     "metadata": {},
     "output_type": "execute_result"
    }
   ],
   "source": [
    "df['interest_level']"
   ]
  },
  {
   "cell_type": "code",
   "execution_count": 82,
   "metadata": {},
   "outputs": [
    {
     "data": {
      "text/html": [
       "<div>\n",
       "<style scoped>\n",
       "    .dataframe tbody tr th:only-of-type {\n",
       "        vertical-align: middle;\n",
       "    }\n",
       "\n",
       "    .dataframe tbody tr th {\n",
       "        vertical-align: top;\n",
       "    }\n",
       "\n",
       "    .dataframe thead th {\n",
       "        text-align: right;\n",
       "    }\n",
       "</style>\n",
       "<table border=\"1\" class=\"dataframe\">\n",
       "  <thead>\n",
       "    <tr style=\"text-align: right;\">\n",
       "      <th></th>\n",
       "      <th>interest_level</th>\n",
       "      <th>count</th>\n",
       "    </tr>\n",
       "  </thead>\n",
       "  <tbody>\n",
       "    <tr>\n",
       "      <th>0</th>\n",
       "      <td>high</td>\n",
       "      <td>3839</td>\n",
       "    </tr>\n",
       "    <tr>\n",
       "      <th>1</th>\n",
       "      <td>low</td>\n",
       "      <td>34284</td>\n",
       "    </tr>\n",
       "    <tr>\n",
       "      <th>2</th>\n",
       "      <td>medium</td>\n",
       "      <td>11229</td>\n",
       "    </tr>\n",
       "  </tbody>\n",
       "</table>\n",
       "</div>"
      ],
      "text/plain": [
       "  interest_level  count\n",
       "0           high   3839\n",
       "1            low  34284\n",
       "2         medium  11229"
      ]
     },
     "execution_count": 82,
     "metadata": {},
     "output_type": "execute_result"
    }
   ],
   "source": [
    "count_of_interest_level = df.groupby('interest_level').size().reset_index(name='count')\n",
    "count_of_interest_level"
   ]
  },
  {
   "cell_type": "code",
   "execution_count": 83,
   "metadata": {},
   "outputs": [
    {
     "name": "stderr",
     "output_type": "stream",
     "text": [
      "/tmp/ipykernel_382/29267392.py:1: FutureWarning: Downcasting behavior in `replace` is deprecated and will be removed in a future version. To retain the old behavior, explicitly call `result.infer_objects(copy=False)`. To opt-in to the future behavior, set `pd.set_option('future.no_silent_downcasting', True)`\n",
      "  df['interest_level'] = df['interest_level'].replace({'high': 0, 'low': 1, 'medium': 2})\n"
     ]
    },
    {
     "data": {
      "text/plain": [
       "4         2\n",
       "6         1\n",
       "9         2\n",
       "10        2\n",
       "15        1\n",
       "         ..\n",
       "124000    1\n",
       "124002    2\n",
       "124004    2\n",
       "124008    2\n",
       "124009    0\n",
       "Name: interest_level, Length: 49352, dtype: int64"
      ]
     },
     "execution_count": 83,
     "metadata": {},
     "output_type": "execute_result"
    }
   ],
   "source": [
    "df['interest_level'] = df['interest_level'].replace({'high': 0, 'low': 1, 'medium': 2})\n",
    "df['interest_level']"
   ]
  },
  {
   "cell_type": "markdown",
   "metadata": {},
   "source": [
    "### Комплексный анализ"
   ]
  },
  {
   "cell_type": "markdown",
   "metadata": {},
   "source": [
    "#### Построение корреляционной матрицы"
   ]
  },
  {
   "cell_type": "code",
   "execution_count": 84,
   "metadata": {},
   "outputs": [
    {
     "data": {
      "text/html": [
       "<div>\n",
       "<style scoped>\n",
       "    .dataframe tbody tr th:only-of-type {\n",
       "        vertical-align: middle;\n",
       "    }\n",
       "\n",
       "    .dataframe tbody tr th {\n",
       "        vertical-align: top;\n",
       "    }\n",
       "\n",
       "    .dataframe thead th {\n",
       "        text-align: right;\n",
       "    }\n",
       "</style>\n",
       "<table border=\"1\" class=\"dataframe\">\n",
       "  <thead>\n",
       "    <tr style=\"text-align: right;\">\n",
       "      <th></th>\n",
       "      <th>bathrooms</th>\n",
       "      <th>bedrooms</th>\n",
       "      <th>latitude</th>\n",
       "      <th>listing_id</th>\n",
       "      <th>longitude</th>\n",
       "      <th>price</th>\n",
       "    </tr>\n",
       "  </thead>\n",
       "  <tbody>\n",
       "    <tr>\n",
       "      <th>bathrooms</th>\n",
       "      <td>1.000000</td>\n",
       "      <td>0.533446</td>\n",
       "      <td>-0.009657</td>\n",
       "      <td>0.000776</td>\n",
       "      <td>0.010393</td>\n",
       "      <td>0.069661</td>\n",
       "    </tr>\n",
       "    <tr>\n",
       "      <th>bedrooms</th>\n",
       "      <td>0.533446</td>\n",
       "      <td>1.000000</td>\n",
       "      <td>-0.004745</td>\n",
       "      <td>0.011968</td>\n",
       "      <td>0.006892</td>\n",
       "      <td>0.051788</td>\n",
       "    </tr>\n",
       "    <tr>\n",
       "      <th>latitude</th>\n",
       "      <td>-0.009657</td>\n",
       "      <td>-0.004745</td>\n",
       "      <td>1.000000</td>\n",
       "      <td>0.001712</td>\n",
       "      <td>-0.966807</td>\n",
       "      <td>-0.000707</td>\n",
       "    </tr>\n",
       "    <tr>\n",
       "      <th>listing_id</th>\n",
       "      <td>0.000776</td>\n",
       "      <td>0.011968</td>\n",
       "      <td>0.001712</td>\n",
       "      <td>1.000000</td>\n",
       "      <td>-0.000907</td>\n",
       "      <td>0.008090</td>\n",
       "    </tr>\n",
       "    <tr>\n",
       "      <th>longitude</th>\n",
       "      <td>0.010393</td>\n",
       "      <td>0.006892</td>\n",
       "      <td>-0.966807</td>\n",
       "      <td>-0.000907</td>\n",
       "      <td>1.000000</td>\n",
       "      <td>-0.000087</td>\n",
       "    </tr>\n",
       "    <tr>\n",
       "      <th>price</th>\n",
       "      <td>0.069661</td>\n",
       "      <td>0.051788</td>\n",
       "      <td>-0.000707</td>\n",
       "      <td>0.008090</td>\n",
       "      <td>-0.000087</td>\n",
       "      <td>1.000000</td>\n",
       "    </tr>\n",
       "  </tbody>\n",
       "</table>\n",
       "</div>"
      ],
      "text/plain": [
       "            bathrooms  bedrooms  latitude  listing_id  longitude     price\n",
       "bathrooms    1.000000  0.533446 -0.009657    0.000776   0.010393  0.069661\n",
       "bedrooms     0.533446  1.000000 -0.004745    0.011968   0.006892  0.051788\n",
       "latitude    -0.009657 -0.004745  1.000000    0.001712  -0.966807 -0.000707\n",
       "listing_id   0.000776  0.011968  0.001712    1.000000  -0.000907  0.008090\n",
       "longitude    0.010393  0.006892 -0.966807   -0.000907   1.000000 -0.000087\n",
       "price        0.069661  0.051788 -0.000707    0.008090  -0.000087  1.000000"
      ]
     },
     "execution_count": 84,
     "metadata": {},
     "output_type": "execute_result"
    }
   ],
   "source": [
    "corr_matrix = corr_df.corr()\n",
    "corr_matrix"
   ]
  },
  {
   "cell_type": "markdown",
   "metadata": {},
   "source": [
    "#### Построение тепловой карты"
   ]
  },
  {
   "cell_type": "code",
   "execution_count": 85,
   "metadata": {},
   "outputs": [
    {
     "data": {
      "image/png": "[encoded data removed]",
      "text/plain": [
       "<Figure size 1000x800 with 2 Axes>"
      ]
     },
     "metadata": {},
     "output_type": "display_data"
    }
   ],
   "source": [
    "plt.figure(figsize=(10, 8))\n",
    "sns.heatmap(corr_matrix, annot=True, fmt=\".2f\", cmap='coolwarm', square=True, cbar_kws={\"shrink\": .8})\n",
    "plt.title('Тепловая карта')\n",
    "plt.show()"
   ]
  },
  {
   "cell_type": "markdown",
   "metadata": {},
   "source": [
    "По тепловой карте можно сказать, что между признаками и целевой переменной нет линейной связи."
   ]
  },
  {
   "cell_type": "markdown",
   "metadata": {},
   "source": [
    "#### Построение точечных графиков"
   ]
  },
  {
   "cell_type": "code",
   "execution_count": 86,
   "metadata": {},
   "outputs": [
    {
     "data": {
      "text/plain": [
       "([<matplotlib.axis.XTick at 0x7f60eddafb30>,\n",
       "  <matplotlib.axis.XTick at 0x7f60edda8dd0>,\n",
       "  <matplotlib.axis.XTick at 0x7f60eddafad0>,\n",
       "  <matplotlib.axis.XTick at 0x7f60edda13d0>,\n",
       "  <matplotlib.axis.XTick at 0x7f60edda04d0>,\n",
       "  <matplotlib.axis.XTick at 0x7f60edd9eab0>,\n",
       "  <matplotlib.axis.XTick at 0x7f60edd9d610>,\n",
       "  <matplotlib.axis.XTick at 0x7f60edda2210>,\n",
       "  <matplotlib.axis.XTick at 0x7f60edda7d10>,\n",
       "  <matplotlib.axis.XTick at 0x7f60edd939b0>,\n",
       "  <matplotlib.axis.XTick at 0x7f60edd95250>,\n",
       "  <matplotlib.axis.XTick at 0x7f60edd92810>],\n",
       " [Text(1475, 0, '1475'),\n",
       "  Text(2475, 0, '2475'),\n",
       "  Text(3475, 0, '3475'),\n",
       "  Text(4475, 0, '4475'),\n",
       "  Text(5475, 0, '5475'),\n",
       "  Text(6475, 0, '6475'),\n",
       "  Text(7475, 0, '7475'),\n",
       "  Text(8475, 0, '8475'),\n",
       "  Text(9475, 0, '9475'),\n",
       "  Text(10475, 0, '10475'),\n",
       "  Text(11475, 0, '11475'),\n",
       "  Text(12475, 0, '12475')])"
      ]
     },
     "execution_count": 86,
     "metadata": {},
     "output_type": "execute_result"
    },
    {
     "data": {
      "image/png": "[encoded data removed]",
      "text/plain": [
       "<Figure size 2500x1000 with 1 Axes>"
      ]
     },
     "metadata": {},
     "output_type": "display_data"
    }
   ],
   "source": [
    "plt.figure(figsize=(25, 10))\n",
    "sns.scatterplot(x = 'price', y = 'bathrooms', data = filtered_df)\n",
    "plt.title('Зависимомть цены от кол-ва ванных комнат')\n",
    "plt.xlabel('Цена')\n",
    "plt.ylabel('Кол-во ванных комнат')\n",
    "plt.xticks(ticks=range(int(filtered_df['price'].min()), int(filtered_df['price'].max()) + 1, 1000))"
   ]
  },
  {
   "cell_type": "code",
   "execution_count": 87,
   "metadata": {},
   "outputs": [
    {
     "data": {
      "text/plain": [
       "([<matplotlib.axis.XTick at 0x7f60edd8a3f0>,\n",
       "  <matplotlib.axis.XTick at 0x7f60eddb96d0>,\n",
       "  <matplotlib.axis.XTick at 0x7f60edd87890>,\n",
       "  <matplotlib.axis.XTick at 0x7f60eddc40b0>,\n",
       "  <matplotlib.axis.XTick at 0x7f60edd7e150>,\n",
       "  <matplotlib.axis.XTick at 0x7f60edd7cc50>,\n",
       "  <matplotlib.axis.XTick at 0x7f60edd7b6b0>,\n",
       "  <matplotlib.axis.XTick at 0x7f60edd7f1d0>,\n",
       "  <matplotlib.axis.XTick at 0x7f60edd8bef0>,\n",
       "  <matplotlib.axis.XTick at 0x7f60edd6f3b0>,\n",
       "  <matplotlib.axis.XTick at 0x7f60edd6e030>,\n",
       "  <matplotlib.axis.XTick at 0x7f60edd6cd70>],\n",
       " [Text(1475, 0, '1475'),\n",
       "  Text(2475, 0, '2475'),\n",
       "  Text(3475, 0, '3475'),\n",
       "  Text(4475, 0, '4475'),\n",
       "  Text(5475, 0, '5475'),\n",
       "  Text(6475, 0, '6475'),\n",
       "  Text(7475, 0, '7475'),\n",
       "  Text(8475, 0, '8475'),\n",
       "  Text(9475, 0, '9475'),\n",
       "  Text(10475, 0, '10475'),\n",
       "  Text(11475, 0, '11475'),\n",
       "  Text(12475, 0, '12475')])"
      ]
     },
     "execution_count": 87,
     "metadata": {},
     "output_type": "execute_result"
    },
    {
     "data": {
      "image/png": "[encoded data removed]",
      "text/plain": [
       "<Figure size 2500x1000 with 1 Axes>"
      ]
     },
     "metadata": {},
     "output_type": "display_data"
    }
   ],
   "source": [
    "plt.figure(figsize=(25, 10))\n",
    "sns.scatterplot(x = 'price', y = 'bedrooms', data = filtered_df)\n",
    "plt.title('Зависимомть цены от кол-ва cпален')\n",
    "plt.xlabel('Цена')\n",
    "plt.ylabel('Кол-во спален')\n",
    "plt.xticks(ticks=range(int(filtered_df['price'].min()), int(filtered_df['price'].max()) + 1, 1000))"
   ]
  },
  {
   "cell_type": "code",
   "execution_count": 88,
   "metadata": {},
   "outputs": [
    {
     "data": {
      "text/plain": [
       "([<matplotlib.axis.XTick at 0x7f60edd802f0>,\n",
       "  <matplotlib.axis.XTick at 0x7f60edd5c6b0>,\n",
       "  <matplotlib.axis.XTick at 0x7f60edd90830>,\n",
       "  <matplotlib.axis.XTick at 0x7f60edd58cb0>,\n",
       "  <matplotlib.axis.XTick at 0x7f60edd57890>,\n",
       "  <matplotlib.axis.XTick at 0x7f60edd56390>,\n",
       "  <matplotlib.axis.XTick at 0x7f60edd55010>,\n",
       "  <matplotlib.axis.XTick at 0x7f60edd585f0>,\n",
       "  <matplotlib.axis.XTick at 0x7f60edd8b890>,\n",
       "  <matplotlib.axis.XTick at 0x7f60edd50950>,\n",
       "  <matplotlib.axis.XTick at 0x7f60edd52090>,\n",
       "  <matplotlib.axis.XTick at 0x7f60edd4fb30>],\n",
       " [Text(1475, 0, '1475'),\n",
       "  Text(2475, 0, '2475'),\n",
       "  Text(3475, 0, '3475'),\n",
       "  Text(4475, 0, '4475'),\n",
       "  Text(5475, 0, '5475'),\n",
       "  Text(6475, 0, '6475'),\n",
       "  Text(7475, 0, '7475'),\n",
       "  Text(8475, 0, '8475'),\n",
       "  Text(9475, 0, '9475'),\n",
       "  Text(10475, 0, '10475'),\n",
       "  Text(11475, 0, '11475'),\n",
       "  Text(12475, 0, '12475')])"
      ]
     },
     "execution_count": 88,
     "metadata": {},
     "output_type": "execute_result"
    },
    {
     "data": {
      "image/png": "[encoded data removed]",
      "text/plain": [
       "<Figure size 2500x1000 with 1 Axes>"
      ]
     },
     "metadata": {},
     "output_type": "display_data"
    }
   ],
   "source": [
    "plt.figure(figsize=(25, 10))\n",
    "sns.scatterplot(x = 'price', y = 'interest_level', data = filtered_df)\n",
    "plt.title('Зависимомть цены от интереса места')\n",
    "plt.xlabel('Цена')\n",
    "plt.ylabel('Интерес места')\n",
    "plt.xticks(ticks=range(int(filtered_df['price'].min()), int(filtered_df['price'].max()) + 1, 1000))"
   ]
  },
  {
   "cell_type": "markdown",
   "metadata": {},
   "source": [
    "## Создание характеристик"
   ]
  },
  {
   "cell_type": "markdown",
   "metadata": {},
   "source": [
    "#### Добавление новых характеристик"
   ]
  },
  {
   "cell_type": "code",
   "execution_count": 89,
   "metadata": {},
   "outputs": [
    {
     "data": {
      "text/html": [
       "<div>\n",
       "<style scoped>\n",
       "    .dataframe tbody tr th:only-of-type {\n",
       "        vertical-align: middle;\n",
       "    }\n",
       "\n",
       "    .dataframe tbody tr th {\n",
       "        vertical-align: top;\n",
       "    }\n",
       "\n",
       "    .dataframe thead th {\n",
       "        text-align: right;\n",
       "    }\n",
       "</style>\n",
       "<table border=\"1\" class=\"dataframe\">\n",
       "  <thead>\n",
       "    <tr style=\"text-align: right;\">\n",
       "      <th></th>\n",
       "      <th>bathrooms</th>\n",
       "      <th>bedrooms</th>\n",
       "      <th>building_id</th>\n",
       "      <th>created</th>\n",
       "      <th>description</th>\n",
       "      <th>display_address</th>\n",
       "      <th>features</th>\n",
       "      <th>latitude</th>\n",
       "      <th>listing_id</th>\n",
       "      <th>longitude</th>\n",
       "      <th>manager_id</th>\n",
       "      <th>photos</th>\n",
       "      <th>price</th>\n",
       "      <th>street_address</th>\n",
       "      <th>interest_level</th>\n",
       "      <th>bathrooms_squared</th>\n",
       "      <th>bedrooms_squared</th>\n",
       "      <th>interest_level_squared</th>\n",
       "    </tr>\n",
       "  </thead>\n",
       "  <tbody>\n",
       "    <tr>\n",
       "      <th>4</th>\n",
       "      <td>1.0</td>\n",
       "      <td>1</td>\n",
       "      <td>8579a0b0d54db803821a35a4a615e97a</td>\n",
       "      <td>2016-06-16 05:55:27</td>\n",
       "      <td>Spacious 1 Bedroom 1 Bathroom in Williamsburg!...</td>\n",
       "      <td>145 Borinquen Place</td>\n",
       "      <td>[Dining Room, Pre-War, Laundry in Building, Di...</td>\n",
       "      <td>40.7108</td>\n",
       "      <td>7170325</td>\n",
       "      <td>-73.9539</td>\n",
       "      <td>a10db4590843d78c784171a107bdacb4</td>\n",
       "      <td>[https://photos.renthop.com/2/7170325_3bb5ac84...</td>\n",
       "      <td>2400</td>\n",
       "      <td>145 Borinquen Place</td>\n",
       "      <td>2</td>\n",
       "      <td>1.00</td>\n",
       "      <td>1</td>\n",
       "      <td>4</td>\n",
       "    </tr>\n",
       "    <tr>\n",
       "      <th>6</th>\n",
       "      <td>1.0</td>\n",
       "      <td>2</td>\n",
       "      <td>b8e75fc949a6cd8225b455648a951712</td>\n",
       "      <td>2016-06-01 05:44:33</td>\n",
       "      <td>BRAND NEW GUT RENOVATED TRUE 2 BEDROOMFind you...</td>\n",
       "      <td>East 44th</td>\n",
       "      <td>[Doorman, Elevator, Laundry in Building, Dishw...</td>\n",
       "      <td>40.7513</td>\n",
       "      <td>7092344</td>\n",
       "      <td>-73.9722</td>\n",
       "      <td>955db33477af4f40004820b4aed804a0</td>\n",
       "      <td>[https://photos.renthop.com/2/7092344_7663c19a...</td>\n",
       "      <td>3800</td>\n",
       "      <td>230 East 44th</td>\n",
       "      <td>1</td>\n",
       "      <td>1.00</td>\n",
       "      <td>4</td>\n",
       "      <td>1</td>\n",
       "    </tr>\n",
       "    <tr>\n",
       "      <th>9</th>\n",
       "      <td>1.0</td>\n",
       "      <td>2</td>\n",
       "      <td>cd759a988b8f23924b5a2058d5ab2b49</td>\n",
       "      <td>2016-06-14 15:19:59</td>\n",
       "      <td>**FLEX 2 BEDROOM WITH FULL PRESSURIZED WALL**L...</td>\n",
       "      <td>East 56th Street</td>\n",
       "      <td>[Doorman, Elevator, Laundry in Building, Laund...</td>\n",
       "      <td>40.7575</td>\n",
       "      <td>7158677</td>\n",
       "      <td>-73.9625</td>\n",
       "      <td>c8b10a317b766204f08e613cef4ce7a0</td>\n",
       "      <td>[https://photos.renthop.com/2/7158677_c897a134...</td>\n",
       "      <td>3495</td>\n",
       "      <td>405 East 56th Street</td>\n",
       "      <td>2</td>\n",
       "      <td>1.00</td>\n",
       "      <td>4</td>\n",
       "      <td>4</td>\n",
       "    </tr>\n",
       "    <tr>\n",
       "      <th>10</th>\n",
       "      <td>1.5</td>\n",
       "      <td>3</td>\n",
       "      <td>53a5b119ba8f7b61d4e010512e0dfc85</td>\n",
       "      <td>2016-06-24 07:54:24</td>\n",
       "      <td>A Brand New 3 Bedroom 1.5 bath ApartmentEnjoy ...</td>\n",
       "      <td>Metropolitan Avenue</td>\n",
       "      <td>[]</td>\n",
       "      <td>40.7145</td>\n",
       "      <td>7211212</td>\n",
       "      <td>-73.9425</td>\n",
       "      <td>5ba989232d0489da1b5f2c45f6688adc</td>\n",
       "      <td>[https://photos.renthop.com/2/7211212_1ed4542e...</td>\n",
       "      <td>3000</td>\n",
       "      <td>792 Metropolitan Avenue</td>\n",
       "      <td>2</td>\n",
       "      <td>2.25</td>\n",
       "      <td>9</td>\n",
       "      <td>4</td>\n",
       "    </tr>\n",
       "    <tr>\n",
       "      <th>15</th>\n",
       "      <td>1.0</td>\n",
       "      <td>0</td>\n",
       "      <td>bfb9405149bfff42a92980b594c28234</td>\n",
       "      <td>2016-06-28 03:50:23</td>\n",
       "      <td>Over-sized Studio w abundant closets. Availabl...</td>\n",
       "      <td>East 34th Street</td>\n",
       "      <td>[Doorman, Elevator, Fitness Center, Laundry in...</td>\n",
       "      <td>40.7439</td>\n",
       "      <td>7225292</td>\n",
       "      <td>-73.9743</td>\n",
       "      <td>2c3b41f588fbb5234d8a1e885a436cfa</td>\n",
       "      <td>[https://photos.renthop.com/2/7225292_901f1984...</td>\n",
       "      <td>2795</td>\n",
       "      <td>340 East 34th Street</td>\n",
       "      <td>1</td>\n",
       "      <td>1.00</td>\n",
       "      <td>0</td>\n",
       "      <td>1</td>\n",
       "    </tr>\n",
       "    <tr>\n",
       "      <th>...</th>\n",
       "      <td>...</td>\n",
       "      <td>...</td>\n",
       "      <td>...</td>\n",
       "      <td>...</td>\n",
       "      <td>...</td>\n",
       "      <td>...</td>\n",
       "      <td>...</td>\n",
       "      <td>...</td>\n",
       "      <td>...</td>\n",
       "      <td>...</td>\n",
       "      <td>...</td>\n",
       "      <td>...</td>\n",
       "      <td>...</td>\n",
       "      <td>...</td>\n",
       "      <td>...</td>\n",
       "      <td>...</td>\n",
       "      <td>...</td>\n",
       "      <td>...</td>\n",
       "    </tr>\n",
       "    <tr>\n",
       "      <th>124000</th>\n",
       "      <td>1.0</td>\n",
       "      <td>3</td>\n",
       "      <td>92bbbf38baadfde0576fc496bd41749c</td>\n",
       "      <td>2016-04-05 03:58:33</td>\n",
       "      <td>There is 700 square feet of recently renovated...</td>\n",
       "      <td>W 171 Street</td>\n",
       "      <td>[Elevator, Dishwasher, Hardwood Floors]</td>\n",
       "      <td>40.8433</td>\n",
       "      <td>6824800</td>\n",
       "      <td>-73.9396</td>\n",
       "      <td>a61e21da3ba18c7a3d54cfdcc247e1f8</td>\n",
       "      <td>[https://photos.renthop.com/2/6824800_0682be16...</td>\n",
       "      <td>2800</td>\n",
       "      <td>620 W 171 Street</td>\n",
       "      <td>1</td>\n",
       "      <td>1.00</td>\n",
       "      <td>9</td>\n",
       "      <td>1</td>\n",
       "    </tr>\n",
       "    <tr>\n",
       "      <th>124002</th>\n",
       "      <td>1.0</td>\n",
       "      <td>2</td>\n",
       "      <td>5565db9b7cba3603834c4aa6f2950960</td>\n",
       "      <td>2016-04-02 02:25:31</td>\n",
       "      <td>2 bedroom apartment with updated kitchen, rece...</td>\n",
       "      <td>Broadway</td>\n",
       "      <td>[Common Outdoor Space, Cats Allowed, Dogs Allo...</td>\n",
       "      <td>40.8198</td>\n",
       "      <td>6813268</td>\n",
       "      <td>-73.9578</td>\n",
       "      <td>8f90e5e10e8a2d7cf997f016d89230eb</td>\n",
       "      <td>[https://photos.renthop.com/2/6813268_1e6fcc32...</td>\n",
       "      <td>2395</td>\n",
       "      <td>3333 Broadway</td>\n",
       "      <td>2</td>\n",
       "      <td>1.00</td>\n",
       "      <td>4</td>\n",
       "      <td>4</td>\n",
       "    </tr>\n",
       "    <tr>\n",
       "      <th>124004</th>\n",
       "      <td>1.0</td>\n",
       "      <td>1</td>\n",
       "      <td>67997a128056ee1ed7d046bbb856e3c7</td>\n",
       "      <td>2016-04-26 05:42:03</td>\n",
       "      <td>No Brokers Fee * Never Lived 1 Bedroom 1 Bathr...</td>\n",
       "      <td>210 Brighton 15th St</td>\n",
       "      <td>[Dining Room, Elevator, Pre-War, Laundry in Bu...</td>\n",
       "      <td>40.5765</td>\n",
       "      <td>6927093</td>\n",
       "      <td>-73.9554</td>\n",
       "      <td>a10db4590843d78c784171a107bdacb4</td>\n",
       "      <td>[https://photos.renthop.com/2/6927093_93a52104...</td>\n",
       "      <td>1850</td>\n",
       "      <td>210 Brighton 15th St</td>\n",
       "      <td>2</td>\n",
       "      <td>1.00</td>\n",
       "      <td>1</td>\n",
       "      <td>4</td>\n",
       "    </tr>\n",
       "    <tr>\n",
       "      <th>124008</th>\n",
       "      <td>1.0</td>\n",
       "      <td>2</td>\n",
       "      <td>3c0574a740154806c18bdf1fddd3d966</td>\n",
       "      <td>2016-04-19 02:47:33</td>\n",
       "      <td>Wonderful Bright Chelsea 2 Bedroom apartment o...</td>\n",
       "      <td>West 21st Street</td>\n",
       "      <td>[Pre-War, Laundry in Unit, Dishwasher, No Fee,...</td>\n",
       "      <td>40.7448</td>\n",
       "      <td>6892816</td>\n",
       "      <td>-74.0017</td>\n",
       "      <td>c3cd45f4381ac371507090e9ffabea80</td>\n",
       "      <td>[https://photos.renthop.com/2/6892816_1a8d087a...</td>\n",
       "      <td>4195</td>\n",
       "      <td>350 West 21st Street</td>\n",
       "      <td>2</td>\n",
       "      <td>1.00</td>\n",
       "      <td>4</td>\n",
       "      <td>4</td>\n",
       "    </tr>\n",
       "    <tr>\n",
       "      <th>124009</th>\n",
       "      <td>1.0</td>\n",
       "      <td>3</td>\n",
       "      <td>d89f514c3ed0abaae52cba7017ac0701</td>\n",
       "      <td>2016-04-20 05:34:00</td>\n",
       "      <td>***PRIME MIDTOWN EAST OFF PARK AVE***TRUE 3 BE...</td>\n",
       "      <td>E 54th St</td>\n",
       "      <td>[Dining Room, Elevator, Laundry in Building, D...</td>\n",
       "      <td>40.7594</td>\n",
       "      <td>6901023</td>\n",
       "      <td>-73.9712</td>\n",
       "      <td>e90f2ded843cdb2efd65ef47d9fc8029</td>\n",
       "      <td>[https://photos.renthop.com/2/6901023_02052d90...</td>\n",
       "      <td>4280</td>\n",
       "      <td>123 E 54th St</td>\n",
       "      <td>0</td>\n",
       "      <td>1.00</td>\n",
       "      <td>9</td>\n",
       "      <td>0</td>\n",
       "    </tr>\n",
       "  </tbody>\n",
       "</table>\n",
       "<p>49352 rows × 18 columns</p>\n",
       "</div>"
      ],
      "text/plain": [
       "        bathrooms  bedrooms                       building_id  \\\n",
       "4             1.0         1  8579a0b0d54db803821a35a4a615e97a   \n",
       "6             1.0         2  b8e75fc949a6cd8225b455648a951712   \n",
       "9             1.0         2  cd759a988b8f23924b5a2058d5ab2b49   \n",
       "10            1.5         3  53a5b119ba8f7b61d4e010512e0dfc85   \n",
       "15            1.0         0  bfb9405149bfff42a92980b594c28234   \n",
       "...           ...       ...                               ...   \n",
       "124000        1.0         3  92bbbf38baadfde0576fc496bd41749c   \n",
       "124002        1.0         2  5565db9b7cba3603834c4aa6f2950960   \n",
       "124004        1.0         1  67997a128056ee1ed7d046bbb856e3c7   \n",
       "124008        1.0         2  3c0574a740154806c18bdf1fddd3d966   \n",
       "124009        1.0         3  d89f514c3ed0abaae52cba7017ac0701   \n",
       "\n",
       "                    created  \\\n",
       "4       2016-06-16 05:55:27   \n",
       "6       2016-06-01 05:44:33   \n",
       "9       2016-06-14 15:19:59   \n",
       "10      2016-06-24 07:54:24   \n",
       "15      2016-06-28 03:50:23   \n",
       "...                     ...   \n",
       "124000  2016-04-05 03:58:33   \n",
       "124002  2016-04-02 02:25:31   \n",
       "124004  2016-04-26 05:42:03   \n",
       "124008  2016-04-19 02:47:33   \n",
       "124009  2016-04-20 05:34:00   \n",
       "\n",
       "                                              description  \\\n",
       "4       Spacious 1 Bedroom 1 Bathroom in Williamsburg!...   \n",
       "6       BRAND NEW GUT RENOVATED TRUE 2 BEDROOMFind you...   \n",
       "9       **FLEX 2 BEDROOM WITH FULL PRESSURIZED WALL**L...   \n",
       "10      A Brand New 3 Bedroom 1.5 bath ApartmentEnjoy ...   \n",
       "15      Over-sized Studio w abundant closets. Availabl...   \n",
       "...                                                   ...   \n",
       "124000  There is 700 square feet of recently renovated...   \n",
       "124002  2 bedroom apartment with updated kitchen, rece...   \n",
       "124004  No Brokers Fee * Never Lived 1 Bedroom 1 Bathr...   \n",
       "124008  Wonderful Bright Chelsea 2 Bedroom apartment o...   \n",
       "124009  ***PRIME MIDTOWN EAST OFF PARK AVE***TRUE 3 BE...   \n",
       "\n",
       "             display_address  \\\n",
       "4        145 Borinquen Place   \n",
       "6                  East 44th   \n",
       "9           East 56th Street   \n",
       "10       Metropolitan Avenue   \n",
       "15          East 34th Street   \n",
       "...                      ...   \n",
       "124000          W 171 Street   \n",
       "124002              Broadway   \n",
       "124004  210 Brighton 15th St   \n",
       "124008      West 21st Street   \n",
       "124009             E 54th St   \n",
       "\n",
       "                                                 features  latitude  \\\n",
       "4       [Dining Room, Pre-War, Laundry in Building, Di...   40.7108   \n",
       "6       [Doorman, Elevator, Laundry in Building, Dishw...   40.7513   \n",
       "9       [Doorman, Elevator, Laundry in Building, Laund...   40.7575   \n",
       "10                                                     []   40.7145   \n",
       "15      [Doorman, Elevator, Fitness Center, Laundry in...   40.7439   \n",
       "...                                                   ...       ...   \n",
       "124000            [Elevator, Dishwasher, Hardwood Floors]   40.8433   \n",
       "124002  [Common Outdoor Space, Cats Allowed, Dogs Allo...   40.8198   \n",
       "124004  [Dining Room, Elevator, Pre-War, Laundry in Bu...   40.5765   \n",
       "124008  [Pre-War, Laundry in Unit, Dishwasher, No Fee,...   40.7448   \n",
       "124009  [Dining Room, Elevator, Laundry in Building, D...   40.7594   \n",
       "\n",
       "        listing_id  longitude                        manager_id  \\\n",
       "4          7170325   -73.9539  a10db4590843d78c784171a107bdacb4   \n",
       "6          7092344   -73.9722  955db33477af4f40004820b4aed804a0   \n",
       "9          7158677   -73.9625  c8b10a317b766204f08e613cef4ce7a0   \n",
       "10         7211212   -73.9425  5ba989232d0489da1b5f2c45f6688adc   \n",
       "15         7225292   -73.9743  2c3b41f588fbb5234d8a1e885a436cfa   \n",
       "...            ...        ...                               ...   \n",
       "124000     6824800   -73.9396  a61e21da3ba18c7a3d54cfdcc247e1f8   \n",
       "124002     6813268   -73.9578  8f90e5e10e8a2d7cf997f016d89230eb   \n",
       "124004     6927093   -73.9554  a10db4590843d78c784171a107bdacb4   \n",
       "124008     6892816   -74.0017  c3cd45f4381ac371507090e9ffabea80   \n",
       "124009     6901023   -73.9712  e90f2ded843cdb2efd65ef47d9fc8029   \n",
       "\n",
       "                                                   photos  price  \\\n",
       "4       [https://photos.renthop.com/2/7170325_3bb5ac84...   2400   \n",
       "6       [https://photos.renthop.com/2/7092344_7663c19a...   3800   \n",
       "9       [https://photos.renthop.com/2/7158677_c897a134...   3495   \n",
       "10      [https://photos.renthop.com/2/7211212_1ed4542e...   3000   \n",
       "15      [https://photos.renthop.com/2/7225292_901f1984...   2795   \n",
       "...                                                   ...    ...   \n",
       "124000  [https://photos.renthop.com/2/6824800_0682be16...   2800   \n",
       "124002  [https://photos.renthop.com/2/6813268_1e6fcc32...   2395   \n",
       "124004  [https://photos.renthop.com/2/6927093_93a52104...   1850   \n",
       "124008  [https://photos.renthop.com/2/6892816_1a8d087a...   4195   \n",
       "124009  [https://photos.renthop.com/2/6901023_02052d90...   4280   \n",
       "\n",
       "                 street_address  interest_level  bathrooms_squared  \\\n",
       "4           145 Borinquen Place               2               1.00   \n",
       "6                 230 East 44th               1               1.00   \n",
       "9          405 East 56th Street               2               1.00   \n",
       "10      792 Metropolitan Avenue               2               2.25   \n",
       "15         340 East 34th Street               1               1.00   \n",
       "...                         ...             ...                ...   \n",
       "124000         620 W 171 Street               1               1.00   \n",
       "124002            3333 Broadway               2               1.00   \n",
       "124004     210 Brighton 15th St               2               1.00   \n",
       "124008     350 West 21st Street               2               1.00   \n",
       "124009            123 E 54th St               0               1.00   \n",
       "\n",
       "        bedrooms_squared  interest_level_squared  \n",
       "4                      1                       4  \n",
       "6                      4                       1  \n",
       "9                      4                       4  \n",
       "10                     9                       4  \n",
       "15                     0                       1  \n",
       "...                  ...                     ...  \n",
       "124000                 9                       1  \n",
       "124002                 4                       4  \n",
       "124004                 1                       4  \n",
       "124008                 4                       4  \n",
       "124009                 9                       0  \n",
       "\n",
       "[49352 rows x 18 columns]"
      ]
     },
     "execution_count": 89,
     "metadata": {},
     "output_type": "execute_result"
    }
   ],
   "source": [
    "df['bathrooms_squared'] = df['bathrooms'] ** 2\n",
    "df['bedrooms_squared'] = df['bedrooms'] ** 2\n",
    "df['interest_level_squared'] = df['interest_level'] ** 2\n",
    "df"
   ]
  },
  {
   "cell_type": "markdown",
   "metadata": {},
   "source": [
    "#### Построение матрицы корреляции с новыми признаками"
   ]
  },
  {
   "cell_type": "code",
   "execution_count": 90,
   "metadata": {},
   "outputs": [
    {
     "data": {
      "text/html": [
       "<div>\n",
       "<style scoped>\n",
       "    .dataframe tbody tr th:only-of-type {\n",
       "        vertical-align: middle;\n",
       "    }\n",
       "\n",
       "    .dataframe tbody tr th {\n",
       "        vertical-align: top;\n",
       "    }\n",
       "\n",
       "    .dataframe thead th {\n",
       "        text-align: right;\n",
       "    }\n",
       "</style>\n",
       "<table border=\"1\" class=\"dataframe\">\n",
       "  <thead>\n",
       "    <tr style=\"text-align: right;\">\n",
       "      <th></th>\n",
       "      <th>bathrooms</th>\n",
       "      <th>bedrooms</th>\n",
       "      <th>latitude</th>\n",
       "      <th>listing_id</th>\n",
       "      <th>longitude</th>\n",
       "      <th>price</th>\n",
       "      <th>interest_level</th>\n",
       "      <th>bathrooms_squared</th>\n",
       "      <th>bedrooms_squared</th>\n",
       "      <th>interest_level_squared</th>\n",
       "    </tr>\n",
       "  </thead>\n",
       "  <tbody>\n",
       "    <tr>\n",
       "      <th>bathrooms</th>\n",
       "      <td>1.000000</td>\n",
       "      <td>0.533446</td>\n",
       "      <td>-0.009657</td>\n",
       "      <td>0.000776</td>\n",
       "      <td>0.010393</td>\n",
       "      <td>0.069661</td>\n",
       "      <td>-0.013183</td>\n",
       "      <td>0.948078</td>\n",
       "      <td>0.576067</td>\n",
       "      <td>-0.038311</td>\n",
       "    </tr>\n",
       "    <tr>\n",
       "      <th>bedrooms</th>\n",
       "      <td>0.533446</td>\n",
       "      <td>1.000000</td>\n",
       "      <td>-0.004745</td>\n",
       "      <td>0.011968</td>\n",
       "      <td>0.006892</td>\n",
       "      <td>0.051788</td>\n",
       "      <td>0.030213</td>\n",
       "      <td>0.479853</td>\n",
       "      <td>0.928373</td>\n",
       "      <td>0.036852</td>\n",
       "    </tr>\n",
       "    <tr>\n",
       "      <th>latitude</th>\n",
       "      <td>-0.009657</td>\n",
       "      <td>-0.004745</td>\n",
       "      <td>1.000000</td>\n",
       "      <td>0.001712</td>\n",
       "      <td>-0.966807</td>\n",
       "      <td>-0.000707</td>\n",
       "      <td>0.001214</td>\n",
       "      <td>-0.017665</td>\n",
       "      <td>-0.006996</td>\n",
       "      <td>0.002648</td>\n",
       "    </tr>\n",
       "    <tr>\n",
       "      <th>listing_id</th>\n",
       "      <td>0.000776</td>\n",
       "      <td>0.011968</td>\n",
       "      <td>0.001712</td>\n",
       "      <td>1.000000</td>\n",
       "      <td>-0.000907</td>\n",
       "      <td>0.008090</td>\n",
       "      <td>-0.009598</td>\n",
       "      <td>0.001175</td>\n",
       "      <td>0.013137</td>\n",
       "      <td>-0.017312</td>\n",
       "    </tr>\n",
       "    <tr>\n",
       "      <th>longitude</th>\n",
       "      <td>0.010393</td>\n",
       "      <td>0.006892</td>\n",
       "      <td>-0.966807</td>\n",
       "      <td>-0.000907</td>\n",
       "      <td>1.000000</td>\n",
       "      <td>-0.000087</td>\n",
       "      <td>-0.002279</td>\n",
       "      <td>0.018933</td>\n",
       "      <td>0.008839</td>\n",
       "      <td>-0.003627</td>\n",
       "    </tr>\n",
       "    <tr>\n",
       "      <th>price</th>\n",
       "      <td>0.069661</td>\n",
       "      <td>0.051788</td>\n",
       "      <td>-0.000707</td>\n",
       "      <td>0.008090</td>\n",
       "      <td>-0.000087</td>\n",
       "      <td>1.000000</td>\n",
       "      <td>-0.005527</td>\n",
       "      <td>0.073514</td>\n",
       "      <td>0.052395</td>\n",
       "      <td>-0.012653</td>\n",
       "    </tr>\n",
       "    <tr>\n",
       "      <th>interest_level</th>\n",
       "      <td>-0.013183</td>\n",
       "      <td>0.030213</td>\n",
       "      <td>0.001214</td>\n",
       "      <td>-0.009598</td>\n",
       "      <td>-0.002279</td>\n",
       "      <td>-0.005527</td>\n",
       "      <td>1.000000</td>\n",
       "      <td>-0.020259</td>\n",
       "      <td>0.026693</td>\n",
       "      <td>0.949320</td>\n",
       "    </tr>\n",
       "    <tr>\n",
       "      <th>bathrooms_squared</th>\n",
       "      <td>0.948078</td>\n",
       "      <td>0.479853</td>\n",
       "      <td>-0.017665</td>\n",
       "      <td>0.001175</td>\n",
       "      <td>0.018933</td>\n",
       "      <td>0.073514</td>\n",
       "      <td>-0.020259</td>\n",
       "      <td>1.000000</td>\n",
       "      <td>0.540462</td>\n",
       "      <td>-0.045789</td>\n",
       "    </tr>\n",
       "    <tr>\n",
       "      <th>bedrooms_squared</th>\n",
       "      <td>0.576067</td>\n",
       "      <td>0.928373</td>\n",
       "      <td>-0.006996</td>\n",
       "      <td>0.013137</td>\n",
       "      <td>0.008839</td>\n",
       "      <td>0.052395</td>\n",
       "      <td>0.026693</td>\n",
       "      <td>0.540462</td>\n",
       "      <td>1.000000</td>\n",
       "      <td>0.032336</td>\n",
       "    </tr>\n",
       "    <tr>\n",
       "      <th>interest_level_squared</th>\n",
       "      <td>-0.038311</td>\n",
       "      <td>0.036852</td>\n",
       "      <td>0.002648</td>\n",
       "      <td>-0.017312</td>\n",
       "      <td>-0.003627</td>\n",
       "      <td>-0.012653</td>\n",
       "      <td>0.949320</td>\n",
       "      <td>-0.045789</td>\n",
       "      <td>0.032336</td>\n",
       "      <td>1.000000</td>\n",
       "    </tr>\n",
       "  </tbody>\n",
       "</table>\n",
       "</div>"
      ],
      "text/plain": [
       "                        bathrooms  bedrooms  latitude  listing_id  longitude  \\\n",
       "bathrooms                1.000000  0.533446 -0.009657    0.000776   0.010393   \n",
       "bedrooms                 0.533446  1.000000 -0.004745    0.011968   0.006892   \n",
       "latitude                -0.009657 -0.004745  1.000000    0.001712  -0.966807   \n",
       "listing_id               0.000776  0.011968  0.001712    1.000000  -0.000907   \n",
       "longitude                0.010393  0.006892 -0.966807   -0.000907   1.000000   \n",
       "price                    0.069661  0.051788 -0.000707    0.008090  -0.000087   \n",
       "interest_level          -0.013183  0.030213  0.001214   -0.009598  -0.002279   \n",
       "bathrooms_squared        0.948078  0.479853 -0.017665    0.001175   0.018933   \n",
       "bedrooms_squared         0.576067  0.928373 -0.006996    0.013137   0.008839   \n",
       "interest_level_squared  -0.038311  0.036852  0.002648   -0.017312  -0.003627   \n",
       "\n",
       "                           price  interest_level  bathrooms_squared  \\\n",
       "bathrooms               0.069661       -0.013183           0.948078   \n",
       "bedrooms                0.051788        0.030213           0.479853   \n",
       "latitude               -0.000707        0.001214          -0.017665   \n",
       "listing_id              0.008090       -0.009598           0.001175   \n",
       "longitude              -0.000087       -0.002279           0.018933   \n",
       "price                   1.000000       -0.005527           0.073514   \n",
       "interest_level         -0.005527        1.000000          -0.020259   \n",
       "bathrooms_squared       0.073514       -0.020259           1.000000   \n",
       "bedrooms_squared        0.052395        0.026693           0.540462   \n",
       "interest_level_squared -0.012653        0.949320          -0.045789   \n",
       "\n",
       "                        bedrooms_squared  interest_level_squared  \n",
       "bathrooms                       0.576067               -0.038311  \n",
       "bedrooms                        0.928373                0.036852  \n",
       "latitude                       -0.006996                0.002648  \n",
       "listing_id                      0.013137               -0.017312  \n",
       "longitude                       0.008839               -0.003627  \n",
       "price                           0.052395               -0.012653  \n",
       "interest_level                  0.026693                0.949320  \n",
       "bathrooms_squared               0.540462               -0.045789  \n",
       "bedrooms_squared                1.000000                0.032336  \n",
       "interest_level_squared          0.032336                1.000000  "
      ]
     },
     "execution_count": 90,
     "metadata": {},
     "output_type": "execute_result"
    }
   ],
   "source": [
    "corr_df = df.select_dtypes(include=['number'])\n",
    "new_corr_matrix = corr_df.corr()\n",
    "new_corr_matrix"
   ]
  },
  {
   "cell_type": "markdown",
   "metadata": {},
   "source": [
    "#### Построение тепловой карты по новым признакам"
   ]
  },
  {
   "cell_type": "code",
   "execution_count": 91,
   "metadata": {},
   "outputs": [
    {
     "data": {
      "image/png": "[encoded data removed]",
      "text/plain": [
       "<Figure size 1500x1800 with 2 Axes>"
      ]
     },
     "metadata": {},
     "output_type": "display_data"
    }
   ],
   "source": [
    "plt.figure(figsize=(15, 18))\n",
    "sns.heatmap(new_corr_matrix, annot=True, fmt=\".4f\", cmap='coolwarm', square=True, cbar_kws={\"shrink\": .8})\n",
    "plt.title('Тепловая карта новых признаков')\n",
    "plt.show()"
   ]
  },
  {
   "cell_type": "markdown",
   "metadata": {},
   "source": [
    "#### Разделение данных на обучающую и тестоввую выборки"
   ]
  },
  {
   "cell_type": "code",
   "execution_count": 92,
   "metadata": {},
   "outputs": [
    {
     "data": {
      "text/html": [
       "<div>\n",
       "<style scoped>\n",
       "    .dataframe tbody tr th:only-of-type {\n",
       "        vertical-align: middle;\n",
       "    }\n",
       "\n",
       "    .dataframe tbody tr th {\n",
       "        vertical-align: top;\n",
       "    }\n",
       "\n",
       "    .dataframe thead th {\n",
       "        text-align: right;\n",
       "    }\n",
       "</style>\n",
       "<table border=\"1\" class=\"dataframe\">\n",
       "  <thead>\n",
       "    <tr style=\"text-align: right;\">\n",
       "      <th></th>\n",
       "      <th>bathrooms</th>\n",
       "      <th>bedrooms</th>\n",
       "      <th>price</th>\n",
       "    </tr>\n",
       "  </thead>\n",
       "  <tbody>\n",
       "    <tr>\n",
       "      <th>4</th>\n",
       "      <td>1.0</td>\n",
       "      <td>1</td>\n",
       "      <td>2400</td>\n",
       "    </tr>\n",
       "    <tr>\n",
       "      <th>6</th>\n",
       "      <td>1.0</td>\n",
       "      <td>2</td>\n",
       "      <td>3800</td>\n",
       "    </tr>\n",
       "    <tr>\n",
       "      <th>9</th>\n",
       "      <td>1.0</td>\n",
       "      <td>2</td>\n",
       "      <td>3495</td>\n",
       "    </tr>\n",
       "    <tr>\n",
       "      <th>10</th>\n",
       "      <td>1.5</td>\n",
       "      <td>3</td>\n",
       "      <td>3000</td>\n",
       "    </tr>\n",
       "    <tr>\n",
       "      <th>15</th>\n",
       "      <td>1.0</td>\n",
       "      <td>0</td>\n",
       "      <td>2795</td>\n",
       "    </tr>\n",
       "    <tr>\n",
       "      <th>...</th>\n",
       "      <td>...</td>\n",
       "      <td>...</td>\n",
       "      <td>...</td>\n",
       "    </tr>\n",
       "    <tr>\n",
       "      <th>124000</th>\n",
       "      <td>1.0</td>\n",
       "      <td>3</td>\n",
       "      <td>2800</td>\n",
       "    </tr>\n",
       "    <tr>\n",
       "      <th>124002</th>\n",
       "      <td>1.0</td>\n",
       "      <td>2</td>\n",
       "      <td>2395</td>\n",
       "    </tr>\n",
       "    <tr>\n",
       "      <th>124004</th>\n",
       "      <td>1.0</td>\n",
       "      <td>1</td>\n",
       "      <td>1850</td>\n",
       "    </tr>\n",
       "    <tr>\n",
       "      <th>124008</th>\n",
       "      <td>1.0</td>\n",
       "      <td>2</td>\n",
       "      <td>4195</td>\n",
       "    </tr>\n",
       "    <tr>\n",
       "      <th>124009</th>\n",
       "      <td>1.0</td>\n",
       "      <td>3</td>\n",
       "      <td>4280</td>\n",
       "    </tr>\n",
       "  </tbody>\n",
       "</table>\n",
       "<p>49352 rows × 3 columns</p>\n",
       "</div>"
      ],
      "text/plain": [
       "        bathrooms  bedrooms  price\n",
       "4             1.0         1   2400\n",
       "6             1.0         2   3800\n",
       "9             1.0         2   3495\n",
       "10            1.5         3   3000\n",
       "15            1.0         0   2795\n",
       "...           ...       ...    ...\n",
       "124000        1.0         3   2800\n",
       "124002        1.0         2   2395\n",
       "124004        1.0         1   1850\n",
       "124008        1.0         2   4195\n",
       "124009        1.0         3   4280\n",
       "\n",
       "[49352 rows x 3 columns]"
      ]
     },
     "execution_count": 92,
     "metadata": {},
     "output_type": "execute_result"
    }
   ],
   "source": [
    "train_path_df = '../../data/train.json'\n",
    "df_train = pd.read_json(train_path_df)[['bathrooms', 'bedrooms', 'price']]\n",
    "df_train"
   ]
  },
  {
   "cell_type": "code",
   "execution_count": 93,
   "metadata": {},
   "outputs": [
    {
     "data": {
      "text/html": [
       "<div>\n",
       "<style scoped>\n",
       "    .dataframe tbody tr th:only-of-type {\n",
       "        vertical-align: middle;\n",
       "    }\n",
       "\n",
       "    .dataframe tbody tr th {\n",
       "        vertical-align: top;\n",
       "    }\n",
       "\n",
       "    .dataframe thead th {\n",
       "        text-align: right;\n",
       "    }\n",
       "</style>\n",
       "<table border=\"1\" class=\"dataframe\">\n",
       "  <thead>\n",
       "    <tr style=\"text-align: right;\">\n",
       "      <th></th>\n",
       "      <th>bathrooms</th>\n",
       "      <th>bedrooms</th>\n",
       "      <th>price</th>\n",
       "    </tr>\n",
       "  </thead>\n",
       "  <tbody>\n",
       "    <tr>\n",
       "      <th>0</th>\n",
       "      <td>1.0</td>\n",
       "      <td>1</td>\n",
       "      <td>2950</td>\n",
       "    </tr>\n",
       "    <tr>\n",
       "      <th>1</th>\n",
       "      <td>1.0</td>\n",
       "      <td>2</td>\n",
       "      <td>2850</td>\n",
       "    </tr>\n",
       "    <tr>\n",
       "      <th>2</th>\n",
       "      <td>1.0</td>\n",
       "      <td>0</td>\n",
       "      <td>2295</td>\n",
       "    </tr>\n",
       "    <tr>\n",
       "      <th>3</th>\n",
       "      <td>1.0</td>\n",
       "      <td>2</td>\n",
       "      <td>2900</td>\n",
       "    </tr>\n",
       "    <tr>\n",
       "      <th>5</th>\n",
       "      <td>1.0</td>\n",
       "      <td>1</td>\n",
       "      <td>3254</td>\n",
       "    </tr>\n",
       "    <tr>\n",
       "      <th>...</th>\n",
       "      <td>...</td>\n",
       "      <td>...</td>\n",
       "      <td>...</td>\n",
       "    </tr>\n",
       "    <tr>\n",
       "      <th>124003</th>\n",
       "      <td>1.0</td>\n",
       "      <td>1</td>\n",
       "      <td>1700</td>\n",
       "    </tr>\n",
       "    <tr>\n",
       "      <th>124005</th>\n",
       "      <td>1.0</td>\n",
       "      <td>2</td>\n",
       "      <td>4195</td>\n",
       "    </tr>\n",
       "    <tr>\n",
       "      <th>124006</th>\n",
       "      <td>1.0</td>\n",
       "      <td>0</td>\n",
       "      <td>2400</td>\n",
       "    </tr>\n",
       "    <tr>\n",
       "      <th>124007</th>\n",
       "      <td>2.0</td>\n",
       "      <td>2</td>\n",
       "      <td>6895</td>\n",
       "    </tr>\n",
       "    <tr>\n",
       "      <th>124010</th>\n",
       "      <td>1.0</td>\n",
       "      <td>3</td>\n",
       "      <td>4695</td>\n",
       "    </tr>\n",
       "  </tbody>\n",
       "</table>\n",
       "<p>74659 rows × 3 columns</p>\n",
       "</div>"
      ],
      "text/plain": [
       "        bathrooms  bedrooms  price\n",
       "0             1.0         1   2950\n",
       "1             1.0         2   2850\n",
       "2             1.0         0   2295\n",
       "3             1.0         2   2900\n",
       "5             1.0         1   3254\n",
       "...           ...       ...    ...\n",
       "124003        1.0         1   1700\n",
       "124005        1.0         2   4195\n",
       "124006        1.0         0   2400\n",
       "124007        2.0         2   6895\n",
       "124010        1.0         3   4695\n",
       "\n",
       "[74659 rows x 3 columns]"
      ]
     },
     "execution_count": 93,
     "metadata": {},
     "output_type": "execute_result"
    }
   ],
   "source": [
    "test_path_df = '../../data/test.json'\n",
    "df_test = pd.read_json(test_path_df)[['bathrooms', 'bedrooms', 'price']]\n",
    "df_test"
   ]
  },
  {
   "cell_type": "code",
   "execution_count": 94,
   "metadata": {},
   "outputs": [],
   "source": [
    "X_train = df_train.drop('price', axis=1)\n",
    "y_train = df_train['price']\n",
    "\n",
    "X_test = df_test.drop('price', axis=1)\n",
    "y_test = df_test['price']"
   ]
  },
  {
   "cell_type": "code",
   "execution_count": 95,
   "metadata": {},
   "outputs": [
    {
     "name": "stdout",
     "output_type": "stream",
     "text": [
      "Обучающие данные после преобразования:\n",
      "[[1.0000e+00 1.0000e+00 1.0000e+00 ... 1.0000e+00 1.0000e+00 1.0000e+00]\n",
      " [1.0000e+00 2.0000e+00 1.0000e+00 ... 2.5600e+02 5.1200e+02 1.0240e+03]\n",
      " [1.0000e+00 2.0000e+00 1.0000e+00 ... 2.5600e+02 5.1200e+02 1.0240e+03]\n",
      " ...\n",
      " [1.0000e+00 1.0000e+00 1.0000e+00 ... 1.0000e+00 1.0000e+00 1.0000e+00]\n",
      " [1.0000e+00 2.0000e+00 1.0000e+00 ... 2.5600e+02 5.1200e+02 1.0240e+03]\n",
      " [1.0000e+00 3.0000e+00 1.0000e+00 ... 6.5610e+03 1.9683e+04 5.9049e+04]]\n",
      "Тестовые данные после преобразования:\n",
      "[[1.0000e+00 1.0000e+00 1.0000e+00 ... 1.0000e+00 1.0000e+00 1.0000e+00]\n",
      " [1.0000e+00 2.0000e+00 1.0000e+00 ... 2.5600e+02 5.1200e+02 1.0240e+03]\n",
      " [1.0000e+00 0.0000e+00 1.0000e+00 ... 0.0000e+00 0.0000e+00 0.0000e+00]\n",
      " ...\n",
      " [1.0000e+00 0.0000e+00 1.0000e+00 ... 0.0000e+00 0.0000e+00 0.0000e+00]\n",
      " [2.0000e+00 2.0000e+00 4.0000e+00 ... 1.0240e+03 1.0240e+03 1.0240e+03]\n",
      " [1.0000e+00 3.0000e+00 1.0000e+00 ... 6.5610e+03 1.9683e+04 5.9049e+04]]\n"
     ]
    }
   ],
   "source": [
    "poly = PolynomialFeatures(degree=10, include_bias=False)\n",
    "X_train_poly = poly.fit_transform(X_train)\n",
    "X_test_poly = poly.transform(X_test)\n",
    "\n",
    "print(\"Обучающие данные после преобразования:\")\n",
    "print(X_train_poly)\n",
    "print(\"Тестовые данные после преобразования:\")\n",
    "print(X_test_poly)"
   ]
  },
  {
   "cell_type": "markdown",
   "metadata": {},
   "source": [
    "## Создание моделей"
   ]
  },
  {
   "cell_type": "markdown",
   "metadata": {},
   "source": [
    "#### Создание таблиц с результатами"
   ]
  },
  {
   "cell_type": "code",
   "execution_count": 96,
   "metadata": {},
   "outputs": [
    {
     "data": {
      "text/html": [
       "<div>\n",
       "<style scoped>\n",
       "    .dataframe tbody tr th:only-of-type {\n",
       "        vertical-align: middle;\n",
       "    }\n",
       "\n",
       "    .dataframe tbody tr th {\n",
       "        vertical-align: top;\n",
       "    }\n",
       "\n",
       "    .dataframe thead th {\n",
       "        text-align: right;\n",
       "    }\n",
       "</style>\n",
       "<table border=\"1\" class=\"dataframe\">\n",
       "  <thead>\n",
       "    <tr style=\"text-align: right;\">\n",
       "      <th></th>\n",
       "      <th>model</th>\n",
       "      <th>train</th>\n",
       "      <th>test</th>\n",
       "    </tr>\n",
       "  </thead>\n",
       "  <tbody>\n",
       "  </tbody>\n",
       "</table>\n",
       "</div>"
      ],
      "text/plain": [
       "Empty DataFrame\n",
       "Columns: [model, train, test]\n",
       "Index: []"
      ]
     },
     "execution_count": 96,
     "metadata": {},
     "output_type": "execute_result"
    }
   ],
   "source": [
    "result_MAE = pd.DataFrame(columns=['model', 'train', 'test'])\n",
    "result_MAE"
   ]
  },
  {
   "cell_type": "code",
   "execution_count": 97,
   "metadata": {},
   "outputs": [
    {
     "data": {
      "text/html": [
       "<div>\n",
       "<style scoped>\n",
       "    .dataframe tbody tr th:only-of-type {\n",
       "        vertical-align: middle;\n",
       "    }\n",
       "\n",
       "    .dataframe tbody tr th {\n",
       "        vertical-align: top;\n",
       "    }\n",
       "\n",
       "    .dataframe thead th {\n",
       "        text-align: right;\n",
       "    }\n",
       "</style>\n",
       "<table border=\"1\" class=\"dataframe\">\n",
       "  <thead>\n",
       "    <tr style=\"text-align: right;\">\n",
       "      <th></th>\n",
       "      <th>model</th>\n",
       "      <th>train</th>\n",
       "      <th>test</th>\n",
       "    </tr>\n",
       "  </thead>\n",
       "  <tbody>\n",
       "  </tbody>\n",
       "</table>\n",
       "</div>"
      ],
      "text/plain": [
       "Empty DataFrame\n",
       "Columns: [model, train, test]\n",
       "Index: []"
      ]
     },
     "execution_count": 97,
     "metadata": {},
     "output_type": "execute_result"
    }
   ],
   "source": [
    "result_RMSE = pd.DataFrame(columns=['model', 'train', 'test'])\n",
    "result_RMSE"
   ]
  },
  {
   "cell_type": "markdown",
   "metadata": {},
   "source": [
    "### Линейная регрессия"
   ]
  },
  {
   "cell_type": "code",
   "execution_count": 98,
   "metadata": {},
   "outputs": [],
   "source": [
    "linear_reg_model = LinearRegression()\n",
    "\n",
    "linear_reg_model.fit(X_train_poly, y_train)\n",
    "y_train_pred = linear_reg_model.predict(X_train_poly)\n",
    "y_test_pred = linear_reg_model.predict(X_test_poly)\n"
   ]
  },
  {
   "cell_type": "code",
   "execution_count": 99,
   "metadata": {},
   "outputs": [],
   "source": [
    "mae_train = mean_absolute_error(y_train, y_train_pred)\n",
    "mae_test = mean_absolute_error(y_test, y_test_pred)\n",
    "\n",
    "rmse_train = np.sqrt(mean_squared_error(y_train, y_train_pred))\n",
    "rmse_test = np.sqrt(mean_squared_error(y_test, y_test_pred))"
   ]
  },
  {
   "cell_type": "code",
   "execution_count": 100,
   "metadata": {},
   "outputs": [],
   "source": [
    "result_MAE = pd.DataFrame({\n",
    "    'model': ['LinearRegression'],\n",
    "    'MAE_train': [mae_train],\n",
    "    'MAE_test': [mae_test]\n",
    "})\n",
    "\n",
    "result_RMSE = pd.DataFrame({\n",
    "    'model': ['LinearRegression'],\n",
    "    'RMSE_train': [rmse_train],\n",
    "    'RMSE_test': [rmse_test]\n",
    "})"
   ]
  },
  {
   "cell_type": "markdown",
   "metadata": {},
   "source": [
    "### Дерево принятия решений"
   ]
  },
  {
   "cell_type": "code",
   "execution_count": 101,
   "metadata": {},
   "outputs": [],
   "source": [
    "decision_tree_model = DecisionTreeRegressor()\n",
    "\n",
    "decision_tree_model.fit(X_train_poly, y_train)\n",
    "y_train_pred = decision_tree_model.predict(X_train_poly)\n",
    "y_test_pred = decision_tree_model.predict(X_test_poly)"
   ]
  },
  {
   "cell_type": "code",
   "execution_count": 102,
   "metadata": {},
   "outputs": [],
   "source": [
    "mae_train = mean_absolute_error(y_train, y_train_pred)\n",
    "mae_test = mean_absolute_error(y_test, y_test_pred)\n",
    "\n",
    "rmse_train = np.sqrt(mean_squared_error(y_train, y_train_pred))\n",
    "rmse_test = np.sqrt(mean_squared_error(y_test, y_test_pred))"
   ]
  },
  {
   "cell_type": "code",
   "execution_count": 103,
   "metadata": {},
   "outputs": [],
   "source": [
    "new_record_MAE = pd.DataFrame({\n",
    "    'model': ['DecisionTree'],\n",
    "    'MAE_train': [mae_train],\n",
    "    'MAE_test': [mae_test]\n",
    "})\n",
    "\n",
    "new_record_RMSE = pd.DataFrame({\n",
    "    'model': ['DecisionTree'],\n",
    "    'RMSE_train': [rmse_train],\n",
    "    'RMSE_test': [rmse_test]\n",
    "})\n",
    "\n",
    "result_MAE = pd.concat([result_MAE, new_record_MAE], ignore_index=True)\n",
    "result_RMSE = pd.concat([result_RMSE, new_record_RMSE], ignore_index=True)\n"
   ]
  },
  {
   "cell_type": "markdown",
   "metadata": {},
   "source": [
    "### Собственные модели"
   ]
  },
  {
   "cell_type": "markdown",
   "metadata": {},
   "source": [
    "#### Расчет средних значений и медиан"
   ]
  },
  {
   "cell_type": "code",
   "execution_count": 104,
   "metadata": {},
   "outputs": [
    {
     "data": {
      "text/plain": [
       "np.float64(3830.174035500081)"
      ]
     },
     "execution_count": 104,
     "metadata": {},
     "output_type": "execute_result"
    }
   ],
   "source": [
    "mean_train = y_train.mean()\n",
    "mean_train"
   ]
  },
  {
   "cell_type": "code",
   "execution_count": 105,
   "metadata": {},
   "outputs": [
    {
     "data": {
      "text/plain": [
       "np.float64(3749.032829263719)"
      ]
     },
     "execution_count": 105,
     "metadata": {},
     "output_type": "execute_result"
    }
   ],
   "source": [
    "mean_test = y_test.mean()\n",
    "mean_test"
   ]
  },
  {
   "cell_type": "code",
   "execution_count": 106,
   "metadata": {},
   "outputs": [
    {
     "data": {
      "text/plain": [
       "np.float64(3150.0)"
      ]
     },
     "execution_count": 106,
     "metadata": {},
     "output_type": "execute_result"
    }
   ],
   "source": [
    "median_train = y_train.median()\n",
    "median_train"
   ]
  },
  {
   "cell_type": "code",
   "execution_count": 107,
   "metadata": {},
   "outputs": [
    {
     "data": {
      "text/plain": [
       "np.float64(3150.0)"
      ]
     },
     "execution_count": 107,
     "metadata": {},
     "output_type": "execute_result"
    }
   ],
   "source": [
    "median_test = y_test.median()\n",
    "median_test"
   ]
  },
  {
   "cell_type": "code",
   "execution_count": 108,
   "metadata": {},
   "outputs": [],
   "source": [
    "X_train['mean_predictions'] = mean_train\n",
    "X_train['median_predictions'] = median_train\n",
    "X_test['mean_predictions'] = mean_test\n",
    "X_test['median_predictions'] = median_test"
   ]
  },
  {
   "cell_type": "markdown",
   "metadata": {},
   "source": [
    "#### Расчет средней абсолютной ошибки и среднеквадратичной ошибки "
   ]
  },
  {
   "cell_type": "code",
   "execution_count": 109,
   "metadata": {},
   "outputs": [],
   "source": [
    "mae_mean_train = mean_absolute_error(y_train, [mean_train] * len(y_train))\n",
    "mae_mean_test = mean_absolute_error(y_test, [mean_test] * len(y_test))"
   ]
  },
  {
   "cell_type": "code",
   "execution_count": 113,
   "metadata": {},
   "outputs": [],
   "source": [
    "rmse_mean_train = np.sqrt(mean_squared_error(y_train, [mean_train] * len(y_train)))\n",
    "rmse_mean_test = np.sqrt(mean_squared_error(y_test, [mean_test] * len(y_test)))"
   ]
  },
  {
   "cell_type": "code",
   "execution_count": 110,
   "metadata": {},
   "outputs": [],
   "source": [
    "mae_median_train = mean_absolute_error(y_train, [median_train] * len(y_train))\n",
    "mae_median_test = mean_absolute_error(y_test, [median_test] * len(y_test))"
   ]
  },
  {
   "cell_type": "code",
   "execution_count": 111,
   "metadata": {},
   "outputs": [],
   "source": [
    "rmse_median_train = np.sqrt(mean_squared_error(y_train, [median_train] * len(y_train)))\n",
    "rmse_median_test = np.sqrt(mean_squared_error(y_test, [median_test] * len(y_test)))"
   ]
  },
  {
   "cell_type": "markdown",
   "metadata": {},
   "source": [
    "#### Добавление новых значений в таблицу"
   ]
  },
  {
   "cell_type": "code",
   "execution_count": 114,
   "metadata": {},
   "outputs": [],
   "source": [
    "new_record_MAE_mean = pd.DataFrame({\n",
    "    'model': ['native_mean'],\n",
    "    'MAE_train': [mae_mean_train],\n",
    "    'MAE_test': [mae_mean_test]\n",
    "})\n",
    "\n",
    "new_record_MAE_median = pd.DataFrame({\n",
    "    'model': ['native_median'],\n",
    "    'MAE_train': [mae_median_train],\n",
    "    'MAE_test': [mae_median_test]\n",
    "})\n",
    "\n",
    "new_record_RMSE_mean = pd.DataFrame({\n",
    "    'model': ['native_mean'],\n",
    "    'RMSE_train': [rmse_mean_train],\n",
    "    'RMSE_test': [rmse_mean_test]\n",
    "})\n",
    "\n",
    "new_record_RMSE_median = pd.DataFrame({\n",
    "    'model': ['native_median'],\n",
    "    'RMSE_train': [rmse_median_train],\n",
    "    'RMSE_test': [rmse_median_test]\n",
    "})\n",
    "\n",
    "result_MAE = pd.concat([result_MAE, new_record_MAE_mean, new_record_MAE_median], ignore_index=True)\n",
    "result_RMSE = pd.concat([result_RMSE, new_record_RMSE_mean, new_record_RMSE_median], ignore_index=True)"
   ]
  },
  {
   "cell_type": "markdown",
   "metadata": {},
   "source": [
    "#### Вывод итоговых таблиц"
   ]
  },
  {
   "cell_type": "code",
   "execution_count": 117,
   "metadata": {},
   "outputs": [
    {
     "data": {
      "text/html": [
       "<div>\n",
       "<style scoped>\n",
       "    .dataframe tbody tr th:only-of-type {\n",
       "        vertical-align: middle;\n",
       "    }\n",
       "\n",
       "    .dataframe tbody tr th {\n",
       "        vertical-align: top;\n",
       "    }\n",
       "\n",
       "    .dataframe thead th {\n",
       "        text-align: right;\n",
       "    }\n",
       "</style>\n",
       "<table border=\"1\" class=\"dataframe\">\n",
       "  <thead>\n",
       "    <tr style=\"text-align: right;\">\n",
       "      <th></th>\n",
       "      <th>model</th>\n",
       "      <th>MAE_train</th>\n",
       "      <th>MAE_test</th>\n",
       "    </tr>\n",
       "  </thead>\n",
       "  <tbody>\n",
       "    <tr>\n",
       "      <th>0</th>\n",
       "      <td>LinearRegression</td>\n",
       "      <td>1060.229798</td>\n",
       "      <td>9.444630e+15</td>\n",
       "    </tr>\n",
       "    <tr>\n",
       "      <th>1</th>\n",
       "      <td>DecisionTree</td>\n",
       "      <td>1058.108940</td>\n",
       "      <td>9.973748e+02</td>\n",
       "    </tr>\n",
       "    <tr>\n",
       "      <th>2</th>\n",
       "      <td>native_mean</td>\n",
       "      <td>1549.642449</td>\n",
       "      <td>1.440961e+03</td>\n",
       "    </tr>\n",
       "    <tr>\n",
       "      <th>3</th>\n",
       "      <td>native_median</td>\n",
       "      <td>1400.344403</td>\n",
       "      <td>1.322641e+03</td>\n",
       "    </tr>\n",
       "  </tbody>\n",
       "</table>\n",
       "</div>"
      ],
      "text/plain": [
       "              model    MAE_train      MAE_test\n",
       "0  LinearRegression  1060.229798  9.444630e+15\n",
       "1      DecisionTree  1058.108940  9.973748e+02\n",
       "2       native_mean  1549.642449  1.440961e+03\n",
       "3     native_median  1400.344403  1.322641e+03"
      ]
     },
     "execution_count": 117,
     "metadata": {},
     "output_type": "execute_result"
    }
   ],
   "source": [
    "result_MAE"
   ]
  },
  {
   "cell_type": "code",
   "execution_count": 118,
   "metadata": {},
   "outputs": [
    {
     "data": {
      "text/html": [
       "<div>\n",
       "<style scoped>\n",
       "    .dataframe tbody tr th:only-of-type {\n",
       "        vertical-align: middle;\n",
       "    }\n",
       "\n",
       "    .dataframe tbody tr th {\n",
       "        vertical-align: top;\n",
       "    }\n",
       "\n",
       "    .dataframe thead th {\n",
       "        text-align: right;\n",
       "    }\n",
       "</style>\n",
       "<table border=\"1\" class=\"dataframe\">\n",
       "  <thead>\n",
       "    <tr style=\"text-align: right;\">\n",
       "      <th></th>\n",
       "      <th>model</th>\n",
       "      <th>RMSE_train</th>\n",
       "      <th>RMSE_test</th>\n",
       "    </tr>\n",
       "  </thead>\n",
       "  <tbody>\n",
       "    <tr>\n",
       "      <th>0</th>\n",
       "      <td>LinearRegression</td>\n",
       "      <td>21993.392006</td>\n",
       "      <td>2.580632e+18</td>\n",
       "    </tr>\n",
       "    <tr>\n",
       "      <th>1</th>\n",
       "      <td>DecisionTree</td>\n",
       "      <td>21992.863614</td>\n",
       "      <td>9.585295e+03</td>\n",
       "    </tr>\n",
       "    <tr>\n",
       "      <th>2</th>\n",
       "      <td>native_mean</td>\n",
       "      <td>22066.642317</td>\n",
       "      <td>9.713027e+03</td>\n",
       "    </tr>\n",
       "    <tr>\n",
       "      <th>3</th>\n",
       "      <td>native_median</td>\n",
       "      <td>22077.122545</td>\n",
       "      <td>9.731481e+03</td>\n",
       "    </tr>\n",
       "  </tbody>\n",
       "</table>\n",
       "</div>"
      ],
      "text/plain": [
       "              model    RMSE_train     RMSE_test\n",
       "0  LinearRegression  21993.392006  2.580632e+18\n",
       "1      DecisionTree  21992.863614  9.585295e+03\n",
       "2       native_mean  22066.642317  9.713027e+03\n",
       "3     native_median  22077.122545  9.731481e+03"
      ]
     },
     "execution_count": 118,
     "metadata": {},
     "output_type": "execute_result"
    }
   ],
   "source": [
    "result_RMSE"
   ]
  },
  {
   "cell_type": "markdown",
   "metadata": {},
   "source": [
    "### Выводы"
   ]
  },
  {
   "cell_type": "markdown",
   "metadata": {},
   "source": [
    "Лучшей моделью по итогам результатов таблиц средней абсолютной ошибки и среднеквадратичной ошибки стала модель - DecisionTree.\n",
    " \n",
    "Низкая ошибка на тестовом наборе: DecisionTree имеет наименьшую MAE на тестовом наборе (997.37), что указывает на его способность хорошо обобщать данные и делать точные прогнозы на новых данных.\n",
    "Сравнение с другими моделями: В отличие от линейной регрессии, которая имеет аномально высокую ошибку на тестовом наборе, и моделей, использующих среднее и медиану, DecisionTree демонстрирует сбалансированную производительность как на обучающем, так и на тестовом наборах"
   ]
  },
  {
   "cell_type": "markdown",
   "metadata": {},
   "source": [
    "Низкая ошибка на тестовом наборе: DecisionTree имеет наименьшую RMSE на тестовом наборе (9585.30), что указывает на его способность хорошо обобщать данные и делать точные прогнозы на новых данных.\n",
    "Сравнение с другими моделями: В отличие от линейной регрессии, которая имеет аномально высокую ошибку на тестовом наборе, и моделей, использующих среднее и медиану, DecisionTree демонстрирует сбалансированную производительность как на обучающем, так и на тестовом наборах."
   ]
  },
  {
   "cell_type": "markdown",
   "metadata": {},
   "source": [
    "## Дополнительное задание "
   ]
  },
  {
   "cell_type": "markdown",
   "metadata": {},
   "source": [
    "### Создание нового датафрема для обучения"
   ]
  },
  {
   "cell_type": "code",
   "execution_count": 122,
   "metadata": {},
   "outputs": [
    {
     "data": {
      "text/html": [
       "<div>\n",
       "<style scoped>\n",
       "    .dataframe tbody tr th:only-of-type {\n",
       "        vertical-align: middle;\n",
       "    }\n",
       "\n",
       "    .dataframe tbody tr th {\n",
       "        vertical-align: top;\n",
       "    }\n",
       "\n",
       "    .dataframe thead th {\n",
       "        text-align: right;\n",
       "    }\n",
       "</style>\n",
       "<table border=\"1\" class=\"dataframe\">\n",
       "  <thead>\n",
       "    <tr style=\"text-align: right;\">\n",
       "      <th></th>\n",
       "      <th>latitude</th>\n",
       "      <th>longitude</th>\n",
       "      <th>price</th>\n",
       "    </tr>\n",
       "  </thead>\n",
       "  <tbody>\n",
       "    <tr>\n",
       "      <th>4</th>\n",
       "      <td>40.7108</td>\n",
       "      <td>-73.9539</td>\n",
       "      <td>2400</td>\n",
       "    </tr>\n",
       "    <tr>\n",
       "      <th>6</th>\n",
       "      <td>40.7513</td>\n",
       "      <td>-73.9722</td>\n",
       "      <td>3800</td>\n",
       "    </tr>\n",
       "    <tr>\n",
       "      <th>9</th>\n",
       "      <td>40.7575</td>\n",
       "      <td>-73.9625</td>\n",
       "      <td>3495</td>\n",
       "    </tr>\n",
       "    <tr>\n",
       "      <th>10</th>\n",
       "      <td>40.7145</td>\n",
       "      <td>-73.9425</td>\n",
       "      <td>3000</td>\n",
       "    </tr>\n",
       "    <tr>\n",
       "      <th>15</th>\n",
       "      <td>40.7439</td>\n",
       "      <td>-73.9743</td>\n",
       "      <td>2795</td>\n",
       "    </tr>\n",
       "    <tr>\n",
       "      <th>...</th>\n",
       "      <td>...</td>\n",
       "      <td>...</td>\n",
       "      <td>...</td>\n",
       "    </tr>\n",
       "    <tr>\n",
       "      <th>124000</th>\n",
       "      <td>40.8433</td>\n",
       "      <td>-73.9396</td>\n",
       "      <td>2800</td>\n",
       "    </tr>\n",
       "    <tr>\n",
       "      <th>124002</th>\n",
       "      <td>40.8198</td>\n",
       "      <td>-73.9578</td>\n",
       "      <td>2395</td>\n",
       "    </tr>\n",
       "    <tr>\n",
       "      <th>124004</th>\n",
       "      <td>40.5765</td>\n",
       "      <td>-73.9554</td>\n",
       "      <td>1850</td>\n",
       "    </tr>\n",
       "    <tr>\n",
       "      <th>124008</th>\n",
       "      <td>40.7448</td>\n",
       "      <td>-74.0017</td>\n",
       "      <td>4195</td>\n",
       "    </tr>\n",
       "    <tr>\n",
       "      <th>124009</th>\n",
       "      <td>40.7594</td>\n",
       "      <td>-73.9712</td>\n",
       "      <td>4280</td>\n",
       "    </tr>\n",
       "  </tbody>\n",
       "</table>\n",
       "<p>49352 rows × 3 columns</p>\n",
       "</div>"
      ],
      "text/plain": [
       "        latitude  longitude  price\n",
       "4        40.7108   -73.9539   2400\n",
       "6        40.7513   -73.9722   3800\n",
       "9        40.7575   -73.9625   3495\n",
       "10       40.7145   -73.9425   3000\n",
       "15       40.7439   -73.9743   2795\n",
       "...          ...        ...    ...\n",
       "124000   40.8433   -73.9396   2800\n",
       "124002   40.8198   -73.9578   2395\n",
       "124004   40.5765   -73.9554   1850\n",
       "124008   40.7448   -74.0017   4195\n",
       "124009   40.7594   -73.9712   4280\n",
       "\n",
       "[49352 rows x 3 columns]"
      ]
     },
     "execution_count": 122,
     "metadata": {},
     "output_type": "execute_result"
    }
   ],
   "source": [
    "new_train_df = df[['latitude', 'longitude', 'price']]\n",
    "new_train_df"
   ]
  },
  {
   "cell_type": "code",
   "execution_count": 126,
   "metadata": {},
   "outputs": [
    {
     "data": {
      "text/html": [
       "<div>\n",
       "<style scoped>\n",
       "    .dataframe tbody tr th:only-of-type {\n",
       "        vertical-align: middle;\n",
       "    }\n",
       "\n",
       "    .dataframe tbody tr th {\n",
       "        vertical-align: top;\n",
       "    }\n",
       "\n",
       "    .dataframe thead th {\n",
       "        text-align: right;\n",
       "    }\n",
       "</style>\n",
       "<table border=\"1\" class=\"dataframe\">\n",
       "  <thead>\n",
       "    <tr style=\"text-align: right;\">\n",
       "      <th></th>\n",
       "      <th>latitude</th>\n",
       "      <th>longitude</th>\n",
       "      <th>price</th>\n",
       "    </tr>\n",
       "  </thead>\n",
       "  <tbody>\n",
       "    <tr>\n",
       "      <th>0</th>\n",
       "      <td>40.7185</td>\n",
       "      <td>-73.9865</td>\n",
       "      <td>2950</td>\n",
       "    </tr>\n",
       "    <tr>\n",
       "      <th>1</th>\n",
       "      <td>40.7278</td>\n",
       "      <td>-74.0000</td>\n",
       "      <td>2850</td>\n",
       "    </tr>\n",
       "    <tr>\n",
       "      <th>2</th>\n",
       "      <td>40.7260</td>\n",
       "      <td>-74.0026</td>\n",
       "      <td>2295</td>\n",
       "    </tr>\n",
       "    <tr>\n",
       "      <th>3</th>\n",
       "      <td>40.7321</td>\n",
       "      <td>-74.0028</td>\n",
       "      <td>2900</td>\n",
       "    </tr>\n",
       "    <tr>\n",
       "      <th>5</th>\n",
       "      <td>40.7054</td>\n",
       "      <td>-74.0095</td>\n",
       "      <td>3254</td>\n",
       "    </tr>\n",
       "    <tr>\n",
       "      <th>...</th>\n",
       "      <td>...</td>\n",
       "      <td>...</td>\n",
       "      <td>...</td>\n",
       "    </tr>\n",
       "    <tr>\n",
       "      <th>124003</th>\n",
       "      <td>40.7925</td>\n",
       "      <td>-73.9454</td>\n",
       "      <td>1700</td>\n",
       "    </tr>\n",
       "    <tr>\n",
       "      <th>124005</th>\n",
       "      <td>40.7456</td>\n",
       "      <td>-73.9797</td>\n",
       "      <td>4195</td>\n",
       "    </tr>\n",
       "    <tr>\n",
       "      <th>124006</th>\n",
       "      <td>40.7416</td>\n",
       "      <td>-73.9829</td>\n",
       "      <td>2400</td>\n",
       "    </tr>\n",
       "    <tr>\n",
       "      <th>124007</th>\n",
       "      <td>40.7485</td>\n",
       "      <td>-73.9800</td>\n",
       "      <td>6895</td>\n",
       "    </tr>\n",
       "    <tr>\n",
       "      <th>124010</th>\n",
       "      <td>40.7447</td>\n",
       "      <td>-73.9741</td>\n",
       "      <td>4695</td>\n",
       "    </tr>\n",
       "  </tbody>\n",
       "</table>\n",
       "<p>74659 rows × 3 columns</p>\n",
       "</div>"
      ],
      "text/plain": [
       "        latitude  longitude  price\n",
       "0        40.7185   -73.9865   2950\n",
       "1        40.7278   -74.0000   2850\n",
       "2        40.7260   -74.0026   2295\n",
       "3        40.7321   -74.0028   2900\n",
       "5        40.7054   -74.0095   3254\n",
       "...          ...        ...    ...\n",
       "124003   40.7925   -73.9454   1700\n",
       "124005   40.7456   -73.9797   4195\n",
       "124006   40.7416   -73.9829   2400\n",
       "124007   40.7485   -73.9800   6895\n",
       "124010   40.7447   -73.9741   4695\n",
       "\n",
       "[74659 rows x 3 columns]"
      ]
     },
     "execution_count": 126,
     "metadata": {},
     "output_type": "execute_result"
    }
   ],
   "source": [
    "train_path_df = '../../data/test.json'\n",
    "new_test_df = pd.read_json(train_path_df)[['latitude', 'longitude', 'price']]\n",
    "new_test_df"
   ]
  },
  {
   "cell_type": "code",
   "execution_count": 129,
   "metadata": {},
   "outputs": [
    {
     "data": {
      "text/html": [
       "<div>\n",
       "<style scoped>\n",
       "    .dataframe tbody tr th:only-of-type {\n",
       "        vertical-align: middle;\n",
       "    }\n",
       "\n",
       "    .dataframe tbody tr th {\n",
       "        vertical-align: top;\n",
       "    }\n",
       "\n",
       "    .dataframe thead th {\n",
       "        text-align: right;\n",
       "    }\n",
       "</style>\n",
       "<table border=\"1\" class=\"dataframe\">\n",
       "  <thead>\n",
       "    <tr style=\"text-align: right;\">\n",
       "      <th></th>\n",
       "      <th>latitude</th>\n",
       "      <th>longitude</th>\n",
       "      <th>price</th>\n",
       "    </tr>\n",
       "  </thead>\n",
       "  <tbody>\n",
       "    <tr>\n",
       "      <th>latitude</th>\n",
       "      <td>1.000000</td>\n",
       "      <td>-0.965014</td>\n",
       "      <td>0.001478</td>\n",
       "    </tr>\n",
       "    <tr>\n",
       "      <th>longitude</th>\n",
       "      <td>-0.965014</td>\n",
       "      <td>1.000000</td>\n",
       "      <td>-0.002307</td>\n",
       "    </tr>\n",
       "    <tr>\n",
       "      <th>price</th>\n",
       "      <td>0.001478</td>\n",
       "      <td>-0.002307</td>\n",
       "      <td>1.000000</td>\n",
       "    </tr>\n",
       "  </tbody>\n",
       "</table>\n",
       "</div>"
      ],
      "text/plain": [
       "           latitude  longitude     price\n",
       "latitude   1.000000  -0.965014  0.001478\n",
       "longitude -0.965014   1.000000 -0.002307\n",
       "price      0.001478  -0.002307  1.000000"
      ]
     },
     "execution_count": 129,
     "metadata": {},
     "output_type": "execute_result"
    }
   ],
   "source": [
    "corr_matrix = new_test_df.corr()\n",
    "corr_matrix"
   ]
  },
  {
   "cell_type": "code",
   "execution_count": 130,
   "metadata": {},
   "outputs": [
    {
     "data": {
      "image/png": "[encoded data removed]",
      "text/plain": [
       "<Figure size 1500x1800 with 2 Axes>"
      ]
     },
     "metadata": {},
     "output_type": "display_data"
    }
   ],
   "source": [
    "plt.figure(figsize=(15, 18))\n",
    "sns.heatmap(corr_matrix, annot=True, fmt=\".4f\", cmap='coolwarm', square=True, cbar_kws={\"shrink\": .8})\n",
    "plt.title('Тепловая карта')\n",
    "plt.show()"
   ]
  },
  {
   "cell_type": "markdown",
   "metadata": {},
   "source": [
    "### Обучение модели на данных"
   ]
  },
  {
   "cell_type": "markdown",
   "metadata": {},
   "source": [
    "#### Разделение выборок на обучающую и тестовую "
   ]
  },
  {
   "cell_type": "code",
   "execution_count": 132,
   "metadata": {},
   "outputs": [],
   "source": [
    "X_train = new_train_df.drop('price', axis=1)\n",
    "y_train = new_train_df['price']\n",
    "\n",
    "X_test = new_test_df.drop('price', axis=1)\n",
    "y_test = new_test_df['price']"
   ]
  },
  {
   "cell_type": "code",
   "execution_count": 134,
   "metadata": {},
   "outputs": [
    {
     "name": "stdout",
     "output_type": "stream",
     "text": [
      "Обучающие данные после преобразования:\n",
      "[[ 4.07108000e+01 -7.39539000e+01  1.65736924e+03 ...  1.48288655e+18\n",
      "  -2.69376293e+18  4.89340112e+18]\n",
      " [ 4.07513000e+01 -7.39722000e+01  1.66066845e+03 ...  1.48878237e+18\n",
      "  -2.70245384e+18  4.90552340e+18]\n",
      " [ 4.07575000e+01 -7.39625000e+01  1.66117381e+03 ...  1.48767386e+18\n",
      "  -2.69967682e+18  4.89909457e+18]\n",
      " ...\n",
      " [ 4.05765000e+01 -7.39554000e+01  1.64645235e+03 ...  1.47335801e+18\n",
      "  -2.68536669e+18  4.89439373e+18]\n",
      " [ 4.07448000e+01 -7.40017000e+01  1.66013873e+03 ...  1.49306238e+18\n",
      "  -2.71173633e+18  4.92512170e+18]\n",
      " [ 4.07594000e+01 -7.39712000e+01  1.66132869e+03 ...  1.48921320e+18\n",
      "  -2.70266215e+18  4.90486029e+18]]\n",
      "\n",
      "Тестовые данные после преобразования:\n",
      "[[ 4.07185000e+01 -7.39865000e+01  1.65799624e+03 ...  1.48868704e+18\n",
      "  -2.70498038e+18  4.91501481e+18]\n",
      " [ 4.07278000e+01 -7.40000000e+01  1.65875369e+03 ...  1.49154260e+18\n",
      "  -2.71004454e+18  4.92399040e+18]\n",
      " [ 4.07260000e+01 -7.40026000e+01  1.65860708e+03 ...  1.49183002e+18\n",
      "  -2.71078181e+18  4.92572072e+18]\n",
      " ...\n",
      " [ 4.07416000e+01 -7.39829000e+01  1.65987797e+03 ...  1.48979656e+18\n",
      "  -2.70532994e+18  4.91262381e+18]\n",
      " [ 4.07485000e+01 -7.39800000e+01  1.66044025e+03 ...  1.48983396e+18\n",
      "  -2.70483370e+18  4.91069849e+18]\n",
      " [ 4.07447000e+01 -7.39741000e+01  1.66013058e+03 ...  1.48860601e+18\n",
      "  -2.70264084e+18  4.90678355e+18]]\n"
     ]
    }
   ],
   "source": [
    "poly = PolynomialFeatures(degree=10, include_bias=False)\n",
    "X_train_poly = poly.fit_transform(X_train)\n",
    "X_test_poly = poly.transform(X_test)\n",
    "\n",
    "print(\"Обучающие данные после преобразования:\")\n",
    "print(X_train_poly)\n",
    "print(\"\\nТестовые данные после преобразования:\")\n",
    "print(X_test_poly)"
   ]
  },
  {
   "cell_type": "code",
   "execution_count": 141,
   "metadata": {},
   "outputs": [],
   "source": [
    "decision_tree_model = DecisionTreeRegressor()\n",
    "\n",
    "decision_tree_model.fit(X_train_poly, y_train)\n",
    "y_train_pred = decision_tree_model.predict(X_train_poly)"
   ]
  },
  {
   "cell_type": "code",
   "execution_count": 155,
   "metadata": {},
   "outputs": [],
   "source": [
    "mae_train = mean_absolute_error(y_train, y_train_pred)\n",
    "mae_test = mean_absolute_error(y_test, y_test_pred)\n",
    "\n",
    "rmse_train = np.sqrt(mean_squared_error(y_train, y_train_pred))\n",
    "rmse_test = np.sqrt(mean_squared_error(y_test, y_test_pred))"
   ]
  },
  {
   "cell_type": "code",
   "execution_count": 159,
   "metadata": {},
   "outputs": [],
   "source": [
    "new_record_MAE = pd.DataFrame({\n",
    "    'model': ['model_with_new_features'],\n",
    "    'MAE_train': [mae_train],\n",
    "    'MAE_test': [mae_test]\n",
    "})\n",
    "\n",
    "new_record_RMSE = pd.DataFrame({\n",
    "    'model': ['model_with_new_features'],\n",
    "    'RMSE_train': [rmse_train],\n",
    "    'RMSE_test': [rmse_test]\n",
    "})\n",
    "\n",
    "result_MAE = pd.concat([result_MAE, new_record_MAE], ignore_index=True)\n",
    "result_RMSE = pd.concat([result_RMSE, new_record_RMSE], ignore_index=True)\n"
   ]
  },
  {
   "cell_type": "code",
   "execution_count": 160,
   "metadata": {},
   "outputs": [
    {
     "data": {
      "text/html": [
       "<div>\n",
       "<style scoped>\n",
       "    .dataframe tbody tr th:only-of-type {\n",
       "        vertical-align: middle;\n",
       "    }\n",
       "\n",
       "    .dataframe tbody tr th {\n",
       "        vertical-align: top;\n",
       "    }\n",
       "\n",
       "    .dataframe thead th {\n",
       "        text-align: right;\n",
       "    }\n",
       "</style>\n",
       "<table border=\"1\" class=\"dataframe\">\n",
       "  <thead>\n",
       "    <tr style=\"text-align: right;\">\n",
       "      <th></th>\n",
       "      <th>model</th>\n",
       "      <th>MAE_train</th>\n",
       "      <th>MAE_test</th>\n",
       "    </tr>\n",
       "  </thead>\n",
       "  <tbody>\n",
       "    <tr>\n",
       "      <th>0</th>\n",
       "      <td>LinearRegression</td>\n",
       "      <td>1060.229798</td>\n",
       "      <td>9.444630e+15</td>\n",
       "    </tr>\n",
       "    <tr>\n",
       "      <th>1</th>\n",
       "      <td>DecisionTree</td>\n",
       "      <td>1058.108940</td>\n",
       "      <td>9.973748e+02</td>\n",
       "    </tr>\n",
       "    <tr>\n",
       "      <th>2</th>\n",
       "      <td>native_mean</td>\n",
       "      <td>1549.642449</td>\n",
       "      <td>1.440961e+03</td>\n",
       "    </tr>\n",
       "    <tr>\n",
       "      <th>3</th>\n",
       "      <td>native_median</td>\n",
       "      <td>1400.344403</td>\n",
       "      <td>1.322641e+03</td>\n",
       "    </tr>\n",
       "    <tr>\n",
       "      <th>4</th>\n",
       "      <td>model_with_new_features</td>\n",
       "      <td>676.124062</td>\n",
       "      <td>1.015257e+03</td>\n",
       "    </tr>\n",
       "  </tbody>\n",
       "</table>\n",
       "</div>"
      ],
      "text/plain": [
       "                     model    MAE_train      MAE_test\n",
       "0         LinearRegression  1060.229798  9.444630e+15\n",
       "1             DecisionTree  1058.108940  9.973748e+02\n",
       "2              native_mean  1549.642449  1.440961e+03\n",
       "3            native_median  1400.344403  1.322641e+03\n",
       "4  model_with_new_features   676.124062  1.015257e+03"
      ]
     },
     "execution_count": 160,
     "metadata": {},
     "output_type": "execute_result"
    }
   ],
   "source": [
    "result_MAE"
   ]
  },
  {
   "cell_type": "code",
   "execution_count": 161,
   "metadata": {},
   "outputs": [
    {
     "data": {
      "text/html": [
       "<div>\n",
       "<style scoped>\n",
       "    .dataframe tbody tr th:only-of-type {\n",
       "        vertical-align: middle;\n",
       "    }\n",
       "\n",
       "    .dataframe tbody tr th {\n",
       "        vertical-align: top;\n",
       "    }\n",
       "\n",
       "    .dataframe thead th {\n",
       "        text-align: right;\n",
       "    }\n",
       "</style>\n",
       "<table border=\"1\" class=\"dataframe\">\n",
       "  <thead>\n",
       "    <tr style=\"text-align: right;\">\n",
       "      <th></th>\n",
       "      <th>model</th>\n",
       "      <th>RMSE_train</th>\n",
       "      <th>RMSE_test</th>\n",
       "    </tr>\n",
       "  </thead>\n",
       "  <tbody>\n",
       "    <tr>\n",
       "      <th>0</th>\n",
       "      <td>LinearRegression</td>\n",
       "      <td>21993.392006</td>\n",
       "      <td>2.580632e+18</td>\n",
       "    </tr>\n",
       "    <tr>\n",
       "      <th>1</th>\n",
       "      <td>DecisionTree</td>\n",
       "      <td>21992.863614</td>\n",
       "      <td>9.585295e+03</td>\n",
       "    </tr>\n",
       "    <tr>\n",
       "      <th>2</th>\n",
       "      <td>native_mean</td>\n",
       "      <td>22066.642317</td>\n",
       "      <td>9.713027e+03</td>\n",
       "    </tr>\n",
       "    <tr>\n",
       "      <th>3</th>\n",
       "      <td>native_median</td>\n",
       "      <td>22077.122545</td>\n",
       "      <td>9.731481e+03</td>\n",
       "    </tr>\n",
       "    <tr>\n",
       "      <th>4</th>\n",
       "      <td>model_with_new_features</td>\n",
       "      <td>14328.604329</td>\n",
       "      <td>1.668250e+04</td>\n",
       "    </tr>\n",
       "  </tbody>\n",
       "</table>\n",
       "</div>"
      ],
      "text/plain": [
       "                     model    RMSE_train     RMSE_test\n",
       "0         LinearRegression  21993.392006  2.580632e+18\n",
       "1             DecisionTree  21992.863614  9.585295e+03\n",
       "2              native_mean  22066.642317  9.713027e+03\n",
       "3            native_median  22077.122545  9.731481e+03\n",
       "4  model_with_new_features  14328.604329  1.668250e+04"
      ]
     },
     "execution_count": 161,
     "metadata": {},
     "output_type": "execute_result"
    }
   ],
   "source": [
    "result_RMSE"
   ]
  }
 ],
 "metadata": {
  "kernelspec": {
   "display_name": ".venv",
   "language": "python",
   "name": "python3"
  },
  "language_info": {
   "codemirror_mode": {
    "name": "ipython",
    "version": 3
   },
   "file_extension": ".py",
   "mimetype": "text/x-python",
   "name": "python",
   "nbconvert_exporter": "python",
   "pygments_lexer": "ipython3",
   "version": "3.12.3"
  }
 },
 "nbformat": 4,
 "nbformat_minor": 2
}
